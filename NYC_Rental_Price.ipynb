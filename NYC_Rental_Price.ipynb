{
  "nbformat": 4,
  "nbformat_minor": 0,
  "metadata": {
    "colab": {
      "name": "NYC Rental Price.ipynb",
      "provenance": [],
      "collapsed_sections": []
    },
    "kernelspec": {
      "name": "python3",
      "display_name": "Python 3"
    },
    "language_info": {
      "name": "python"
    }
  },
  "cells": [
    {
      "cell_type": "markdown",
      "metadata": {
        "id": "aNlKikeiMzT2"
      },
      "source": [
        "# Import Libraries"
      ]
    },
    {
      "cell_type": "code",
      "metadata": {
        "id": "dZg4DlMMMjPI"
      },
      "source": [
        "import pandas as pd\n",
        "import numpy as np\n",
        "import matplotlib.pyplot as plt\n",
        "import tensorflow as tf\n",
        "\n",
        "from sklearn.model_selection import train_test_split\n",
        "from sklearn.preprocessing import StandardScaler\n",
        "import warnings\n",
        "warnings.filterwarnings('ignore')\n",
        "import seaborn as sns"
      ],
      "execution_count": 6,
      "outputs": []
    },
    {
      "cell_type": "markdown",
      "metadata": {
        "id": "lS6qCZldM2Va"
      },
      "source": [
        "# Read Data"
      ]
    },
    {
      "cell_type": "code",
      "metadata": {
        "id": "yG4PMHPXMuk_"
      },
      "source": [
        "df = pd.read_csv('/content/drive/MyDrive/Itvedant class/Itvedant Home work/AB_NYC_2019.csv')"
      ],
      "execution_count": 7,
      "outputs": []
    },
    {
      "cell_type": "markdown",
      "metadata": {
        "id": "tzT6wHLwNcC2"
      },
      "source": [
        "# Data Inspection"
      ]
    },
    {
      "cell_type": "code",
      "metadata": {
        "colab": {
          "base_uri": "https://localhost:8080/",
          "height": 406
        },
        "id": "Z62L3B2VNWao",
        "outputId": "8f18dab7-5563-475d-d1e6-b3d05c7653e3"
      },
      "source": [
        "df.head()"
      ],
      "execution_count": 8,
      "outputs": [
        {
          "output_type": "execute_result",
          "data": {
            "text/html": [
              "<div>\n",
              "<style scoped>\n",
              "    .dataframe tbody tr th:only-of-type {\n",
              "        vertical-align: middle;\n",
              "    }\n",
              "\n",
              "    .dataframe tbody tr th {\n",
              "        vertical-align: top;\n",
              "    }\n",
              "\n",
              "    .dataframe thead th {\n",
              "        text-align: right;\n",
              "    }\n",
              "</style>\n",
              "<table border=\"1\" class=\"dataframe\">\n",
              "  <thead>\n",
              "    <tr style=\"text-align: right;\">\n",
              "      <th></th>\n",
              "      <th>id</th>\n",
              "      <th>name</th>\n",
              "      <th>host_id</th>\n",
              "      <th>host_name</th>\n",
              "      <th>neighbourhood_group</th>\n",
              "      <th>neighbourhood</th>\n",
              "      <th>latitude</th>\n",
              "      <th>longitude</th>\n",
              "      <th>room_type</th>\n",
              "      <th>price</th>\n",
              "      <th>minimum_nights</th>\n",
              "      <th>number_of_reviews</th>\n",
              "      <th>last_review</th>\n",
              "      <th>reviews_per_month</th>\n",
              "      <th>calculated_host_listings_count</th>\n",
              "      <th>availability_365</th>\n",
              "    </tr>\n",
              "  </thead>\n",
              "  <tbody>\n",
              "    <tr>\n",
              "      <th>0</th>\n",
              "      <td>2539</td>\n",
              "      <td>Clean &amp; quiet apt home by the park</td>\n",
              "      <td>2787</td>\n",
              "      <td>John</td>\n",
              "      <td>Brooklyn</td>\n",
              "      <td>Kensington</td>\n",
              "      <td>40.64749</td>\n",
              "      <td>-73.97237</td>\n",
              "      <td>Private room</td>\n",
              "      <td>149</td>\n",
              "      <td>1</td>\n",
              "      <td>9</td>\n",
              "      <td>2018-10-19</td>\n",
              "      <td>0.21</td>\n",
              "      <td>6</td>\n",
              "      <td>365</td>\n",
              "    </tr>\n",
              "    <tr>\n",
              "      <th>1</th>\n",
              "      <td>2595</td>\n",
              "      <td>Skylit Midtown Castle</td>\n",
              "      <td>2845</td>\n",
              "      <td>Jennifer</td>\n",
              "      <td>Manhattan</td>\n",
              "      <td>Midtown</td>\n",
              "      <td>40.75362</td>\n",
              "      <td>-73.98377</td>\n",
              "      <td>Entire home/apt</td>\n",
              "      <td>225</td>\n",
              "      <td>1</td>\n",
              "      <td>45</td>\n",
              "      <td>2019-05-21</td>\n",
              "      <td>0.38</td>\n",
              "      <td>2</td>\n",
              "      <td>355</td>\n",
              "    </tr>\n",
              "    <tr>\n",
              "      <th>2</th>\n",
              "      <td>3647</td>\n",
              "      <td>THE VILLAGE OF HARLEM....NEW YORK !</td>\n",
              "      <td>4632</td>\n",
              "      <td>Elisabeth</td>\n",
              "      <td>Manhattan</td>\n",
              "      <td>Harlem</td>\n",
              "      <td>40.80902</td>\n",
              "      <td>-73.94190</td>\n",
              "      <td>Private room</td>\n",
              "      <td>150</td>\n",
              "      <td>3</td>\n",
              "      <td>0</td>\n",
              "      <td>NaN</td>\n",
              "      <td>NaN</td>\n",
              "      <td>1</td>\n",
              "      <td>365</td>\n",
              "    </tr>\n",
              "    <tr>\n",
              "      <th>3</th>\n",
              "      <td>3831</td>\n",
              "      <td>Cozy Entire Floor of Brownstone</td>\n",
              "      <td>4869</td>\n",
              "      <td>LisaRoxanne</td>\n",
              "      <td>Brooklyn</td>\n",
              "      <td>Clinton Hill</td>\n",
              "      <td>40.68514</td>\n",
              "      <td>-73.95976</td>\n",
              "      <td>Entire home/apt</td>\n",
              "      <td>89</td>\n",
              "      <td>1</td>\n",
              "      <td>270</td>\n",
              "      <td>2019-07-05</td>\n",
              "      <td>4.64</td>\n",
              "      <td>1</td>\n",
              "      <td>194</td>\n",
              "    </tr>\n",
              "    <tr>\n",
              "      <th>4</th>\n",
              "      <td>5022</td>\n",
              "      <td>Entire Apt: Spacious Studio/Loft by central park</td>\n",
              "      <td>7192</td>\n",
              "      <td>Laura</td>\n",
              "      <td>Manhattan</td>\n",
              "      <td>East Harlem</td>\n",
              "      <td>40.79851</td>\n",
              "      <td>-73.94399</td>\n",
              "      <td>Entire home/apt</td>\n",
              "      <td>80</td>\n",
              "      <td>10</td>\n",
              "      <td>9</td>\n",
              "      <td>2018-11-19</td>\n",
              "      <td>0.10</td>\n",
              "      <td>1</td>\n",
              "      <td>0</td>\n",
              "    </tr>\n",
              "  </tbody>\n",
              "</table>\n",
              "</div>"
            ],
            "text/plain": [
              "     id  ... availability_365\n",
              "0  2539  ...              365\n",
              "1  2595  ...              355\n",
              "2  3647  ...              365\n",
              "3  3831  ...              194\n",
              "4  5022  ...                0\n",
              "\n",
              "[5 rows x 16 columns]"
            ]
          },
          "metadata": {
            "tags": []
          },
          "execution_count": 8
        }
      ]
    },
    {
      "cell_type": "code",
      "metadata": {
        "id": "bt38Qr5vNfJb"
      },
      "source": [
        "# Removing unimportant columns\n",
        "df.drop(['id','name','host_id','host_name','last_review'],axis=1,inplace=True)"
      ],
      "execution_count": 9,
      "outputs": []
    },
    {
      "cell_type": "code",
      "metadata": {
        "colab": {
          "base_uri": "https://localhost:8080/",
          "height": 164
        },
        "id": "AIrGpdzJO_O7",
        "outputId": "6fd4bceb-314b-4d46-8223-2844f1570850"
      },
      "source": [
        "df.head(2)"
      ],
      "execution_count": 10,
      "outputs": [
        {
          "output_type": "execute_result",
          "data": {
            "text/html": [
              "<div>\n",
              "<style scoped>\n",
              "    .dataframe tbody tr th:only-of-type {\n",
              "        vertical-align: middle;\n",
              "    }\n",
              "\n",
              "    .dataframe tbody tr th {\n",
              "        vertical-align: top;\n",
              "    }\n",
              "\n",
              "    .dataframe thead th {\n",
              "        text-align: right;\n",
              "    }\n",
              "</style>\n",
              "<table border=\"1\" class=\"dataframe\">\n",
              "  <thead>\n",
              "    <tr style=\"text-align: right;\">\n",
              "      <th></th>\n",
              "      <th>neighbourhood_group</th>\n",
              "      <th>neighbourhood</th>\n",
              "      <th>latitude</th>\n",
              "      <th>longitude</th>\n",
              "      <th>room_type</th>\n",
              "      <th>price</th>\n",
              "      <th>minimum_nights</th>\n",
              "      <th>number_of_reviews</th>\n",
              "      <th>reviews_per_month</th>\n",
              "      <th>calculated_host_listings_count</th>\n",
              "      <th>availability_365</th>\n",
              "    </tr>\n",
              "  </thead>\n",
              "  <tbody>\n",
              "    <tr>\n",
              "      <th>0</th>\n",
              "      <td>Brooklyn</td>\n",
              "      <td>Kensington</td>\n",
              "      <td>40.64749</td>\n",
              "      <td>-73.97237</td>\n",
              "      <td>Private room</td>\n",
              "      <td>149</td>\n",
              "      <td>1</td>\n",
              "      <td>9</td>\n",
              "      <td>0.21</td>\n",
              "      <td>6</td>\n",
              "      <td>365</td>\n",
              "    </tr>\n",
              "    <tr>\n",
              "      <th>1</th>\n",
              "      <td>Manhattan</td>\n",
              "      <td>Midtown</td>\n",
              "      <td>40.75362</td>\n",
              "      <td>-73.98377</td>\n",
              "      <td>Entire home/apt</td>\n",
              "      <td>225</td>\n",
              "      <td>1</td>\n",
              "      <td>45</td>\n",
              "      <td>0.38</td>\n",
              "      <td>2</td>\n",
              "      <td>355</td>\n",
              "    </tr>\n",
              "  </tbody>\n",
              "</table>\n",
              "</div>"
            ],
            "text/plain": [
              "  neighbourhood_group  ... availability_365\n",
              "0            Brooklyn  ...              365\n",
              "1           Manhattan  ...              355\n",
              "\n",
              "[2 rows x 11 columns]"
            ]
          },
          "metadata": {
            "tags": []
          },
          "execution_count": 10
        }
      ]
    },
    {
      "cell_type": "code",
      "metadata": {
        "colab": {
          "base_uri": "https://localhost:8080/"
        },
        "id": "BXAEcGh8Oev3",
        "outputId": "63404f2f-574b-4749-e4d8-3c66435dac65"
      },
      "source": [
        "df.shape"
      ],
      "execution_count": 11,
      "outputs": [
        {
          "output_type": "execute_result",
          "data": {
            "text/plain": [
              "(48895, 11)"
            ]
          },
          "metadata": {
            "tags": []
          },
          "execution_count": 11
        }
      ]
    },
    {
      "cell_type": "code",
      "metadata": {
        "colab": {
          "base_uri": "https://localhost:8080/"
        },
        "id": "oARGpf0NO5FO",
        "outputId": "a602f325-c88d-4713-bf09-8033c3e92747"
      },
      "source": [
        "df.info()"
      ],
      "execution_count": 12,
      "outputs": [
        {
          "output_type": "stream",
          "text": [
            "<class 'pandas.core.frame.DataFrame'>\n",
            "RangeIndex: 48895 entries, 0 to 48894\n",
            "Data columns (total 11 columns):\n",
            " #   Column                          Non-Null Count  Dtype  \n",
            "---  ------                          --------------  -----  \n",
            " 0   neighbourhood_group             48895 non-null  object \n",
            " 1   neighbourhood                   48895 non-null  object \n",
            " 2   latitude                        48895 non-null  float64\n",
            " 3   longitude                       48895 non-null  float64\n",
            " 4   room_type                       48895 non-null  object \n",
            " 5   price                           48895 non-null  int64  \n",
            " 6   minimum_nights                  48895 non-null  int64  \n",
            " 7   number_of_reviews               48895 non-null  int64  \n",
            " 8   reviews_per_month               38843 non-null  float64\n",
            " 9   calculated_host_listings_count  48895 non-null  int64  \n",
            " 10  availability_365                48895 non-null  int64  \n",
            "dtypes: float64(3), int64(5), object(3)\n",
            "memory usage: 4.1+ MB\n"
          ],
          "name": "stdout"
        }
      ]
    },
    {
      "cell_type": "code",
      "metadata": {
        "colab": {
          "base_uri": "https://localhost:8080/",
          "height": 294
        },
        "id": "_2jG0DpxZw1i",
        "outputId": "cad86442-1ddc-4388-87a6-3484be58b7bf"
      },
      "source": [
        "df.describe().T"
      ],
      "execution_count": 13,
      "outputs": [
        {
          "output_type": "execute_result",
          "data": {
            "text/html": [
              "<div>\n",
              "<style scoped>\n",
              "    .dataframe tbody tr th:only-of-type {\n",
              "        vertical-align: middle;\n",
              "    }\n",
              "\n",
              "    .dataframe tbody tr th {\n",
              "        vertical-align: top;\n",
              "    }\n",
              "\n",
              "    .dataframe thead th {\n",
              "        text-align: right;\n",
              "    }\n",
              "</style>\n",
              "<table border=\"1\" class=\"dataframe\">\n",
              "  <thead>\n",
              "    <tr style=\"text-align: right;\">\n",
              "      <th></th>\n",
              "      <th>count</th>\n",
              "      <th>mean</th>\n",
              "      <th>std</th>\n",
              "      <th>min</th>\n",
              "      <th>25%</th>\n",
              "      <th>50%</th>\n",
              "      <th>75%</th>\n",
              "      <th>max</th>\n",
              "    </tr>\n",
              "  </thead>\n",
              "  <tbody>\n",
              "    <tr>\n",
              "      <th>latitude</th>\n",
              "      <td>48895.0</td>\n",
              "      <td>40.728949</td>\n",
              "      <td>0.054530</td>\n",
              "      <td>40.49979</td>\n",
              "      <td>40.69010</td>\n",
              "      <td>40.72307</td>\n",
              "      <td>40.763115</td>\n",
              "      <td>40.91306</td>\n",
              "    </tr>\n",
              "    <tr>\n",
              "      <th>longitude</th>\n",
              "      <td>48895.0</td>\n",
              "      <td>-73.952170</td>\n",
              "      <td>0.046157</td>\n",
              "      <td>-74.24442</td>\n",
              "      <td>-73.98307</td>\n",
              "      <td>-73.95568</td>\n",
              "      <td>-73.936275</td>\n",
              "      <td>-73.71299</td>\n",
              "    </tr>\n",
              "    <tr>\n",
              "      <th>price</th>\n",
              "      <td>48895.0</td>\n",
              "      <td>152.720687</td>\n",
              "      <td>240.154170</td>\n",
              "      <td>0.00000</td>\n",
              "      <td>69.00000</td>\n",
              "      <td>106.00000</td>\n",
              "      <td>175.000000</td>\n",
              "      <td>10000.00000</td>\n",
              "    </tr>\n",
              "    <tr>\n",
              "      <th>minimum_nights</th>\n",
              "      <td>48895.0</td>\n",
              "      <td>7.029962</td>\n",
              "      <td>20.510550</td>\n",
              "      <td>1.00000</td>\n",
              "      <td>1.00000</td>\n",
              "      <td>3.00000</td>\n",
              "      <td>5.000000</td>\n",
              "      <td>1250.00000</td>\n",
              "    </tr>\n",
              "    <tr>\n",
              "      <th>number_of_reviews</th>\n",
              "      <td>48895.0</td>\n",
              "      <td>23.274466</td>\n",
              "      <td>44.550582</td>\n",
              "      <td>0.00000</td>\n",
              "      <td>1.00000</td>\n",
              "      <td>5.00000</td>\n",
              "      <td>24.000000</td>\n",
              "      <td>629.00000</td>\n",
              "    </tr>\n",
              "    <tr>\n",
              "      <th>reviews_per_month</th>\n",
              "      <td>38843.0</td>\n",
              "      <td>1.373221</td>\n",
              "      <td>1.680442</td>\n",
              "      <td>0.01000</td>\n",
              "      <td>0.19000</td>\n",
              "      <td>0.72000</td>\n",
              "      <td>2.020000</td>\n",
              "      <td>58.50000</td>\n",
              "    </tr>\n",
              "    <tr>\n",
              "      <th>calculated_host_listings_count</th>\n",
              "      <td>48895.0</td>\n",
              "      <td>7.143982</td>\n",
              "      <td>32.952519</td>\n",
              "      <td>1.00000</td>\n",
              "      <td>1.00000</td>\n",
              "      <td>1.00000</td>\n",
              "      <td>2.000000</td>\n",
              "      <td>327.00000</td>\n",
              "    </tr>\n",
              "    <tr>\n",
              "      <th>availability_365</th>\n",
              "      <td>48895.0</td>\n",
              "      <td>112.781327</td>\n",
              "      <td>131.622289</td>\n",
              "      <td>0.00000</td>\n",
              "      <td>0.00000</td>\n",
              "      <td>45.00000</td>\n",
              "      <td>227.000000</td>\n",
              "      <td>365.00000</td>\n",
              "    </tr>\n",
              "  </tbody>\n",
              "</table>\n",
              "</div>"
            ],
            "text/plain": [
              "                                  count        mean  ...         75%          max\n",
              "latitude                        48895.0   40.728949  ...   40.763115     40.91306\n",
              "longitude                       48895.0  -73.952170  ...  -73.936275    -73.71299\n",
              "price                           48895.0  152.720687  ...  175.000000  10000.00000\n",
              "minimum_nights                  48895.0    7.029962  ...    5.000000   1250.00000\n",
              "number_of_reviews               48895.0   23.274466  ...   24.000000    629.00000\n",
              "reviews_per_month               38843.0    1.373221  ...    2.020000     58.50000\n",
              "calculated_host_listings_count  48895.0    7.143982  ...    2.000000    327.00000\n",
              "availability_365                48895.0  112.781327  ...  227.000000    365.00000\n",
              "\n",
              "[8 rows x 8 columns]"
            ]
          },
          "metadata": {
            "tags": []
          },
          "execution_count": 13
        }
      ]
    },
    {
      "cell_type": "markdown",
      "metadata": {
        "id": "GfOSJkzIZ824"
      },
      "source": [
        "Price cannot be 0, replacing it with median value"
      ]
    },
    {
      "cell_type": "code",
      "metadata": {
        "colab": {
          "base_uri": "https://localhost:8080/"
        },
        "id": "GrJPRkcBZ3rG",
        "outputId": "36e4dae8-ba43-4b70-8f24-fb7f947628af"
      },
      "source": [
        "df[df.price==0].index"
      ],
      "execution_count": 14,
      "outputs": [
        {
          "output_type": "execute_result",
          "data": {
            "text/plain": [
              "Int64Index([23161, 25433, 25634, 25753, 25778, 25794, 25795, 25796, 26259,\n",
              "            26841, 26866],\n",
              "           dtype='int64')"
            ]
          },
          "metadata": {
            "tags": []
          },
          "execution_count": 14
        }
      ]
    },
    {
      "cell_type": "code",
      "metadata": {
        "id": "N34mzMzPaH6z"
      },
      "source": [
        "df.loc[df[df.price==0].index,'price']=int(df.price.mean())"
      ],
      "execution_count": 15,
      "outputs": []
    },
    {
      "cell_type": "markdown",
      "metadata": {
        "id": "go7qM_AaPf63"
      },
      "source": [
        "# Checking Null Values"
      ]
    },
    {
      "cell_type": "code",
      "metadata": {
        "colab": {
          "base_uri": "https://localhost:8080/"
        },
        "id": "jMbqTyMaO7Gn",
        "outputId": "6cb495e7-29b4-4a12-9ddb-c8aff0d832bf"
      },
      "source": [
        "df.isna().sum()"
      ],
      "execution_count": 16,
      "outputs": [
        {
          "output_type": "execute_result",
          "data": {
            "text/plain": [
              "neighbourhood_group                   0\n",
              "neighbourhood                         0\n",
              "latitude                              0\n",
              "longitude                             0\n",
              "room_type                             0\n",
              "price                                 0\n",
              "minimum_nights                        0\n",
              "number_of_reviews                     0\n",
              "reviews_per_month                 10052\n",
              "calculated_host_listings_count        0\n",
              "availability_365                      0\n",
              "dtype: int64"
            ]
          },
          "metadata": {
            "tags": []
          },
          "execution_count": 16
        }
      ]
    },
    {
      "cell_type": "code",
      "metadata": {
        "colab": {
          "base_uri": "https://localhost:8080/"
        },
        "id": "YJREwatkPjeh",
        "outputId": "1249d996-4c79-47f4-e73a-7e57289436c4"
      },
      "source": [
        "df.reviews_per_month.median()"
      ],
      "execution_count": 17,
      "outputs": [
        {
          "output_type": "execute_result",
          "data": {
            "text/plain": [
              "0.72"
            ]
          },
          "metadata": {
            "tags": []
          },
          "execution_count": 17
        }
      ]
    },
    {
      "cell_type": "code",
      "metadata": {
        "id": "p1zonLZGQERj"
      },
      "source": [
        "df.reviews_per_month.fillna(df.reviews_per_month.median(),inplace=True)"
      ],
      "execution_count": 18,
      "outputs": []
    },
    {
      "cell_type": "markdown",
      "metadata": {
        "id": "Oh4q_RFeRHMn"
      },
      "source": [
        "No Null values, data is clean now"
      ]
    },
    {
      "cell_type": "markdown",
      "metadata": {
        "id": "zGdNd2w3RKl4"
      },
      "source": [
        "# Checking Outliers"
      ]
    },
    {
      "cell_type": "code",
      "metadata": {
        "colab": {
          "base_uri": "https://localhost:8080/",
          "height": 283
        },
        "id": "9glTo9fLRETR",
        "outputId": "bbb93004-faed-44b2-cb35-0b0a6a1f90d4"
      },
      "source": [
        "df.plot(kind='box')"
      ],
      "execution_count": 19,
      "outputs": [
        {
          "output_type": "execute_result",
          "data": {
            "text/plain": [
              "<matplotlib.axes._subplots.AxesSubplot at 0x7fa6b7a81490>"
            ]
          },
          "metadata": {
            "tags": []
          },
          "execution_count": 19
        },
        {
          "output_type": "display_data",
          "data": {
            "image/png": "[encoded data removed]",
            "text/plain": [
              "<Figure size 432x288 with 1 Axes>"
            ]
          },
          "metadata": {
            "tags": [],
            "needs_background": "light"
          }
        }
      ]
    },
    {
      "cell_type": "code",
      "metadata": {
        "id": "X4ebGMr8RP3A"
      },
      "source": [
        "continous_col = []\n",
        "for x in df.columns:\n",
        "  if df[x].dtypes != 'O':\n",
        "    continous_col.append(x)"
      ],
      "execution_count": 20,
      "outputs": []
    },
    {
      "cell_type": "code",
      "metadata": {
        "colab": {
          "base_uri": "https://localhost:8080/"
        },
        "id": "WNH5wbW2SGRt",
        "outputId": "6ef5220a-801a-43d6-d1f2-4cd407707cb0"
      },
      "source": [
        "len(continous_col)"
      ],
      "execution_count": 21,
      "outputs": [
        {
          "output_type": "execute_result",
          "data": {
            "text/plain": [
              "8"
            ]
          },
          "metadata": {
            "tags": []
          },
          "execution_count": 21
        }
      ]
    },
    {
      "cell_type": "code",
      "metadata": {
        "colab": {
          "base_uri": "https://localhost:8080/",
          "height": 681
        },
        "id": "GqSLdWaRSIuZ",
        "outputId": "fd647441-29b8-47f8-f351-1637001b44f6"
      },
      "source": [
        "plt.figure(figsize=(22,12))\n",
        "i = 1\n",
        "for x in continous_col:\n",
        "  plt.subplot(2,4,i)\n",
        "  sns.boxplot(y=df[x])\n",
        "  i+=1\n"
      ],
      "execution_count": 22,
      "outputs": [
        {
          "output_type": "display_data",
          "data": {
            "image/png": "[encoded data removed]",
            "text/plain": [
              "<Figure size 1584x864 with 8 Axes>"
            ]
          },
          "metadata": {
            "tags": [],
            "needs_background": "light"
          }
        }
      ]
    },
    {
      "cell_type": "markdown",
      "metadata": {
        "id": "wyuuQHPUT7JI"
      },
      "source": [
        "Handling outliers of Price column"
      ]
    },
    {
      "cell_type": "code",
      "metadata": {
        "colab": {
          "base_uri": "https://localhost:8080/"
        },
        "id": "vmh1sSdzSW8_",
        "outputId": "0c0c17b0-982c-4278-beac-7a2059ac9778"
      },
      "source": [
        "df[df.price>5000].index"
      ],
      "execution_count": 23,
      "outputs": [
        {
          "output_type": "execute_result",
          "data": {
            "text/plain": [
              "Int64Index([ 3537,  3720,  3774,  4377,  6530,  9151, 12342, 15560, 17692,\n",
              "            29238, 29662, 29664, 30268, 37194, 40433, 42523, 43009, 44034,\n",
              "            45666, 48043],\n",
              "           dtype='int64')"
            ]
          },
          "metadata": {
            "tags": []
          },
          "execution_count": 23
        }
      ]
    },
    {
      "cell_type": "code",
      "metadata": {
        "id": "0C4Tkp2XT-ka"
      },
      "source": [
        "# shrinking outliers to limit value\n",
        "df.loc[df[df.price>5000].index,'price'] = 5000"
      ],
      "execution_count": 24,
      "outputs": []
    },
    {
      "cell_type": "markdown",
      "metadata": {
        "id": "y1Pkqp8kV_7r"
      },
      "source": [
        "Handling outliers of minimum_nights column"
      ]
    },
    {
      "cell_type": "code",
      "metadata": {
        "colab": {
          "base_uri": "https://localhost:8080/"
        },
        "id": "Yxq1MlQNU90Z",
        "outputId": "674e80d4-ded1-4add-c685-33249e75f374"
      },
      "source": [
        "df[df.minimum_nights>250].index"
      ],
      "execution_count": 25,
      "outputs": [
        {
          "output_type": "execute_result",
          "data": {
            "text/plain": [
              "Int64Index([  700,   754,  1305,  1449,  1757,  1758,  2150,  2214,  2831,\n",
              "             2854,  3398,  3945,  3978,  4372,  4381,  4437,  4794,  5385,\n",
              "             5767,  5909,  7328,  7355,  8014,  8658, 10829, 11193, 11748,\n",
              "            13404, 13788, 13886, 14285, 15381, 15899, 15946, 15980, 16598,\n",
              "            17338, 17811, 18043, 19794, 20096, 21281, 21708, 23011, 23972,\n",
              "            24012, 26341, 27064, 30518, 31730, 32915, 34487, 38469, 38664,\n",
              "            39875, 40933, 44070, 44429, 44736, 47620, 48446],\n",
              "           dtype='int64')"
            ]
          },
          "metadata": {
            "tags": []
          },
          "execution_count": 25
        }
      ]
    },
    {
      "cell_type": "code",
      "metadata": {
        "id": "OFz6Ct8mVgX2"
      },
      "source": [
        "# shrinking outliers to limit value\n",
        "df.loc[df[df.minimum_nights>250].index,'minimum_nights'] = 250"
      ],
      "execution_count": 26,
      "outputs": []
    },
    {
      "cell_type": "markdown",
      "metadata": {
        "id": "OmQk1ZkyWSPC"
      },
      "source": [
        "Handling outliers of number_of_reviews column"
      ]
    },
    {
      "cell_type": "code",
      "metadata": {
        "colab": {
          "base_uri": "https://localhost:8080/"
        },
        "id": "Qzk-N__WWUPp",
        "outputId": "bb4a15e0-9808-430b-86bd-85d13fcd9773"
      },
      "source": [
        "df[df.number_of_reviews>450].index"
      ],
      "execution_count": 27,
      "outputs": [
        {
          "output_type": "execute_result",
          "data": {
            "text/plain": [
              "Int64Index([  113,   225,   471,  1103,  1190,  1271,  1879,  2015,  2030,\n",
              "             2031,  4870,  8001, 10623, 11759, 13495, 13612, 20403],\n",
              "           dtype='int64')"
            ]
          },
          "metadata": {
            "tags": []
          },
          "execution_count": 27
        }
      ]
    },
    {
      "cell_type": "code",
      "metadata": {
        "id": "V66xCNVHVwF1"
      },
      "source": [
        "df.loc[df[df.number_of_reviews>450].index,'number_of_reviews'] = 450"
      ],
      "execution_count": 28,
      "outputs": []
    },
    {
      "cell_type": "markdown",
      "metadata": {
        "id": "EQxZJsRNX6Ol"
      },
      "source": [
        "Handling Outliers of reviews_per_month column"
      ]
    },
    {
      "cell_type": "code",
      "metadata": {
        "colab": {
          "base_uri": "https://localhost:8080/"
        },
        "id": "ePflOVzDWtxX",
        "outputId": "42ad1d69-6ac8-4839-d0f5-db1006fac8aa"
      },
      "source": [
        "df[df.reviews_per_month>15].index"
      ],
      "execution_count": 29,
      "outputs": [
        {
          "output_type": "execute_result",
          "data": {
            "text/plain": [
              "Int64Index([20403, 22469, 27287, 28651, 29628, 36238, 38870, 40036, 40297,\n",
              "            42075, 42076],\n",
              "           dtype='int64')"
            ]
          },
          "metadata": {
            "tags": []
          },
          "execution_count": 29
        }
      ]
    },
    {
      "cell_type": "code",
      "metadata": {
        "id": "EiT1K4AzXxTp"
      },
      "source": [
        "df.loc[df[df.reviews_per_month>15].index,'reviews_per_month']=15"
      ],
      "execution_count": 30,
      "outputs": []
    },
    {
      "cell_type": "markdown",
      "metadata": {
        "id": "Srf93rlhYGXm"
      },
      "source": [
        "Outliers are handled."
      ]
    },
    {
      "cell_type": "markdown",
      "metadata": {
        "id": "gCI_PjuZZOLX"
      },
      "source": [
        "# Handling Skewness"
      ]
    },
    {
      "cell_type": "code",
      "metadata": {
        "colab": {
          "base_uri": "https://localhost:8080/",
          "height": 296
        },
        "id": "w4wXvGJ7X3VA",
        "outputId": "02a8cd1f-e4ed-4f37-8034-78fa5870f34f"
      },
      "source": [
        "sns.distplot(df.price)"
      ],
      "execution_count": 31,
      "outputs": [
        {
          "output_type": "execute_result",
          "data": {
            "text/plain": [
              "<matplotlib.axes._subplots.AxesSubplot at 0x7fa6b6b1f090>"
            ]
          },
          "metadata": {
            "tags": []
          },
          "execution_count": 31
        },
        {
          "output_type": "display_data",
          "data": {
            "image/png": "[encoded data removed]",
            "text/plain": [
              "<Figure size 432x288 with 1 Axes>"
            ]
          },
          "metadata": {
            "tags": [],
            "needs_background": "light"
          }
        }
      ]
    },
    {
      "cell_type": "markdown",
      "metadata": {
        "id": "IrL6g0EuZcTr"
      },
      "source": [
        "Log Transformation"
      ]
    },
    {
      "cell_type": "code",
      "metadata": {
        "id": "CnWfcrqRYp5W"
      },
      "source": [
        "df.price=np.log(df.price)"
      ],
      "execution_count": 32,
      "outputs": []
    },
    {
      "cell_type": "markdown",
      "metadata": {
        "id": "7FkLum-sagHo"
      },
      "source": [
        "# Create X and Y"
      ]
    },
    {
      "cell_type": "code",
      "metadata": {
        "id": "PC-3xNW7acq1"
      },
      "source": [
        "X = df.drop('price',axis=1)"
      ],
      "execution_count": 33,
      "outputs": []
    },
    {
      "cell_type": "code",
      "metadata": {
        "id": "4GMRpFa8akXR"
      },
      "source": [
        "Y = df.price"
      ],
      "execution_count": 34,
      "outputs": []
    },
    {
      "cell_type": "code",
      "metadata": {
        "colab": {
          "base_uri": "https://localhost:8080/"
        },
        "id": "OM2rDxXygzrb",
        "outputId": "9992bd02-2771-4022-cb88-09aaa0ac76eb"
      },
      "source": [
        "Y"
      ],
      "execution_count": 35,
      "outputs": [
        {
          "output_type": "execute_result",
          "data": {
            "text/plain": [
              "0        5.003946\n",
              "1        5.416100\n",
              "2        5.010635\n",
              "3        4.488636\n",
              "4        4.382027\n",
              "           ...   \n",
              "48890    4.248495\n",
              "48891    3.688879\n",
              "48892    4.744932\n",
              "48893    4.007333\n",
              "48894    4.499810\n",
              "Name: price, Length: 48895, dtype: float64"
            ]
          },
          "metadata": {
            "tags": []
          },
          "execution_count": 35
        }
      ]
    },
    {
      "cell_type": "markdown",
      "metadata": {
        "id": "GD2gCdMKap6p"
      },
      "source": [
        "# Label Encoding"
      ]
    },
    {
      "cell_type": "code",
      "metadata": {
        "colab": {
          "base_uri": "https://localhost:8080/"
        },
        "id": "JWgighT2ak09",
        "outputId": "e7cdce88-9521-4840-d712-c175cdd74da8"
      },
      "source": [
        "cols = []\n",
        "for x in X.columns:\n",
        "  if X[x].dtypes == 'O':\n",
        "    cols.append(x)\n",
        "cols"
      ],
      "execution_count": 36,
      "outputs": [
        {
          "output_type": "execute_result",
          "data": {
            "text/plain": [
              "['neighbourhood_group', 'neighbourhood', 'room_type']"
            ]
          },
          "metadata": {
            "tags": []
          },
          "execution_count": 36
        }
      ]
    },
    {
      "cell_type": "code",
      "metadata": {
        "id": "bLdO96HBawjX"
      },
      "source": [
        "from sklearn.preprocessing import LabelEncoder\n",
        "le = LabelEncoder()\n",
        "for x in cols:\n",
        "  X[x] = le.fit_transform(X[x])"
      ],
      "execution_count": 37,
      "outputs": []
    },
    {
      "cell_type": "markdown",
      "metadata": {
        "id": "2utVJNoQa2EC"
      },
      "source": [
        "# Split the Data"
      ]
    },
    {
      "cell_type": "code",
      "metadata": {
        "id": "TaAzm1kua30-"
      },
      "source": [
        "X_train,X_test,Y_train,Y_test = train_test_split(X,Y,test_size=0.3,random_state=1)"
      ],
      "execution_count": 38,
      "outputs": []
    },
    {
      "cell_type": "markdown",
      "metadata": {
        "id": "jT-1Ifkgazcn"
      },
      "source": [
        "# Scaling of X"
      ]
    },
    {
      "cell_type": "code",
      "metadata": {
        "id": "WDRyhyCUayEs"
      },
      "source": [
        "from sklearn.preprocessing import StandardScaler\n",
        "ss = StandardScaler()\n",
        "X_train = ss.fit_transform(X_train)\n",
        "X_test = ss.transform(X_test)"
      ],
      "execution_count": 39,
      "outputs": []
    },
    {
      "cell_type": "markdown",
      "metadata": {
        "id": "7s71v-EXa-JH"
      },
      "source": [
        "# Neural Network"
      ]
    },
    {
      "cell_type": "code",
      "metadata": {
        "id": "uqvuudMKa7ag"
      },
      "source": [
        "from tensorflow.keras.models import Sequential\n",
        "from tensorflow.keras.layers import Dense"
      ],
      "execution_count": 40,
      "outputs": []
    },
    {
      "cell_type": "code",
      "metadata": {
        "colab": {
          "base_uri": "https://localhost:8080/"
        },
        "id": "-_6siRMwhds2",
        "outputId": "86af1c0c-a4d1-49fb-cedc-15454cc98d02"
      },
      "source": [
        "X.shape"
      ],
      "execution_count": 41,
      "outputs": [
        {
          "output_type": "execute_result",
          "data": {
            "text/plain": [
              "(48895, 10)"
            ]
          },
          "metadata": {
            "tags": []
          },
          "execution_count": 41
        }
      ]
    },
    {
      "cell_type": "markdown",
      "metadata": {
        "id": "atSCZad26xJi"
      },
      "source": [
        "Model 1"
      ]
    },
    {
      "cell_type": "code",
      "metadata": {
        "id": "u7FBghK7bBnH"
      },
      "source": [
        "model = Sequential()\n",
        "model.add(Dense(30, activation=\"tanh\", input_dim=10))\n",
        "model.add(Dense(30, activation=\"tanh\"))\n",
        "model.add(Dense(30, activation=\"tanh\"))\n",
        "model.add(Dense(20, activation=\"tanh\"))\n",
        "model.add(Dense(15, activation=\"tanh\"))\n",
        "model.add(Dense(10, activation=\"tanh\"))\n",
        "model.add(Dense(1))"
      ],
      "execution_count": 42,
      "outputs": []
    },
    {
      "cell_type": "code",
      "metadata": {
        "colab": {
          "base_uri": "https://localhost:8080/"
        },
        "id": "YRaygRWUbIHk",
        "outputId": "9830c6a8-cdc7-46f3-d756-fc07d64d2172"
      },
      "source": [
        "model.compile(optimizer=\"adam\", loss=\"mse\")\n",
        "\n",
        "trained_model = model.fit(X_train, Y_train, epochs=200,batch_size=16)"
      ],
      "execution_count": 43,
      "outputs": [
        {
          "output_type": "stream",
          "text": [
            "Epoch 1/200\n",
            "2140/2140 [==============================] - 5s 2ms/step - loss: 0.7430\n",
            "Epoch 2/200\n",
            "2140/2140 [==============================] - 4s 2ms/step - loss: 0.2260\n",
            "Epoch 3/200\n",
            "2140/2140 [==============================] - 4s 2ms/step - loss: 0.2215\n",
            "Epoch 4/200\n",
            "2140/2140 [==============================] - 4s 2ms/step - loss: 0.2174\n",
            "Epoch 5/200\n",
            "2140/2140 [==============================] - 4s 2ms/step - loss: 0.2151\n",
            "Epoch 6/200\n",
            "2140/2140 [==============================] - 4s 2ms/step - loss: 0.2137\n",
            "Epoch 7/200\n",
            "2140/2140 [==============================] - 4s 2ms/step - loss: 0.2115\n",
            "Epoch 8/200\n",
            "2140/2140 [==============================] - 4s 2ms/step - loss: 0.2103\n",
            "Epoch 9/200\n",
            "2140/2140 [==============================] - 4s 2ms/step - loss: 0.2100\n",
            "Epoch 10/200\n",
            "2140/2140 [==============================] - 4s 2ms/step - loss: 0.2080\n",
            "Epoch 11/200\n",
            "2140/2140 [==============================] - 4s 2ms/step - loss: 0.2077\n",
            "Epoch 12/200\n",
            "2140/2140 [==============================] - 4s 2ms/step - loss: 0.2071\n",
            "Epoch 13/200\n",
            "2140/2140 [==============================] - 4s 2ms/step - loss: 0.2065\n",
            "Epoch 14/200\n",
            "2140/2140 [==============================] - 4s 2ms/step - loss: 0.2051\n",
            "Epoch 15/200\n",
            "2140/2140 [==============================] - 4s 2ms/step - loss: 0.2046\n",
            "Epoch 16/200\n",
            "2140/2140 [==============================] - 4s 2ms/step - loss: 0.2040\n",
            "Epoch 17/200\n",
            "2140/2140 [==============================] - 4s 2ms/step - loss: 0.2036\n",
            "Epoch 18/200\n",
            "2140/2140 [==============================] - 4s 2ms/step - loss: 0.2025\n",
            "Epoch 19/200\n",
            "2140/2140 [==============================] - 4s 2ms/step - loss: 0.2018\n",
            "Epoch 20/200\n",
            "2140/2140 [==============================] - 4s 2ms/step - loss: 0.2012\n",
            "Epoch 21/200\n",
            "2140/2140 [==============================] - 4s 2ms/step - loss: 0.2004\n",
            "Epoch 22/200\n",
            "2140/2140 [==============================] - 4s 2ms/step - loss: 0.1997\n",
            "Epoch 23/200\n",
            "2140/2140 [==============================] - 4s 2ms/step - loss: 0.1994\n",
            "Epoch 24/200\n",
            "2140/2140 [==============================] - 4s 2ms/step - loss: 0.1988\n",
            "Epoch 25/200\n",
            "2140/2140 [==============================] - 4s 2ms/step - loss: 0.1980\n",
            "Epoch 26/200\n",
            "2140/2140 [==============================] - 4s 2ms/step - loss: 0.1979\n",
            "Epoch 27/200\n",
            "2140/2140 [==============================] - 4s 2ms/step - loss: 0.1969\n",
            "Epoch 28/200\n",
            "2140/2140 [==============================] - 4s 2ms/step - loss: 0.1963\n",
            "Epoch 29/200\n",
            "2140/2140 [==============================] - 4s 2ms/step - loss: 0.1959\n",
            "Epoch 30/200\n",
            "2140/2140 [==============================] - 4s 2ms/step - loss: 0.1954\n",
            "Epoch 31/200\n",
            "2140/2140 [==============================] - 4s 2ms/step - loss: 0.1952\n",
            "Epoch 32/200\n",
            "2140/2140 [==============================] - 4s 2ms/step - loss: 0.1945\n",
            "Epoch 33/200\n",
            "2140/2140 [==============================] - 4s 2ms/step - loss: 0.1938\n",
            "Epoch 34/200\n",
            "2140/2140 [==============================] - 4s 2ms/step - loss: 0.1935\n",
            "Epoch 35/200\n",
            "2140/2140 [==============================] - 4s 2ms/step - loss: 0.1933\n",
            "Epoch 36/200\n",
            "2140/2140 [==============================] - 4s 2ms/step - loss: 0.1927\n",
            "Epoch 37/200\n",
            "2140/2140 [==============================] - 4s 2ms/step - loss: 0.1925\n",
            "Epoch 38/200\n",
            "2140/2140 [==============================] - 4s 2ms/step - loss: 0.1922\n",
            "Epoch 39/200\n",
            "2140/2140 [==============================] - 4s 2ms/step - loss: 0.1910\n",
            "Epoch 40/200\n",
            "2140/2140 [==============================] - 4s 2ms/step - loss: 0.1911\n",
            "Epoch 41/200\n",
            "2140/2140 [==============================] - 4s 2ms/step - loss: 0.1907\n",
            "Epoch 42/200\n",
            "2140/2140 [==============================] - 4s 2ms/step - loss: 0.1902\n",
            "Epoch 43/200\n",
            "2140/2140 [==============================] - 4s 2ms/step - loss: 0.1895\n",
            "Epoch 44/200\n",
            "2140/2140 [==============================] - 4s 2ms/step - loss: 0.1888\n",
            "Epoch 45/200\n",
            "2140/2140 [==============================] - 4s 2ms/step - loss: 0.1889\n",
            "Epoch 46/200\n",
            "2140/2140 [==============================] - 4s 2ms/step - loss: 0.1884\n",
            "Epoch 47/200\n",
            "2140/2140 [==============================] - 4s 2ms/step - loss: 0.1882\n",
            "Epoch 48/200\n",
            "2140/2140 [==============================] - 4s 2ms/step - loss: 0.1872\n",
            "Epoch 49/200\n",
            "2140/2140 [==============================] - 4s 2ms/step - loss: 0.1877\n",
            "Epoch 50/200\n",
            "2140/2140 [==============================] - 4s 2ms/step - loss: 0.1868\n",
            "Epoch 51/200\n",
            "2140/2140 [==============================] - 4s 2ms/step - loss: 0.1858\n",
            "Epoch 52/200\n",
            "2140/2140 [==============================] - 4s 2ms/step - loss: 0.1861\n",
            "Epoch 53/200\n",
            "2140/2140 [==============================] - 4s 2ms/step - loss: 0.1855\n",
            "Epoch 54/200\n",
            "2140/2140 [==============================] - 4s 2ms/step - loss: 0.1852\n",
            "Epoch 55/200\n",
            "2140/2140 [==============================] - 4s 2ms/step - loss: 0.1846\n",
            "Epoch 56/200\n",
            "2140/2140 [==============================] - 4s 2ms/step - loss: 0.1845\n",
            "Epoch 57/200\n",
            "2140/2140 [==============================] - 4s 2ms/step - loss: 0.1837\n",
            "Epoch 58/200\n",
            "2140/2140 [==============================] - 4s 2ms/step - loss: 0.1840\n",
            "Epoch 59/200\n",
            "2140/2140 [==============================] - 4s 2ms/step - loss: 0.1831\n",
            "Epoch 60/200\n",
            "2140/2140 [==============================] - 4s 2ms/step - loss: 0.1830\n",
            "Epoch 61/200\n",
            "2140/2140 [==============================] - 4s 2ms/step - loss: 0.1828\n",
            "Epoch 62/200\n",
            "2140/2140 [==============================] - 4s 2ms/step - loss: 0.1829\n",
            "Epoch 63/200\n",
            "2140/2140 [==============================] - 4s 2ms/step - loss: 0.1818\n",
            "Epoch 64/200\n",
            "2140/2140 [==============================] - 4s 2ms/step - loss: 0.1821\n",
            "Epoch 65/200\n",
            "2140/2140 [==============================] - 4s 2ms/step - loss: 0.1815\n",
            "Epoch 66/200\n",
            "2140/2140 [==============================] - 4s 2ms/step - loss: 0.1813\n",
            "Epoch 67/200\n",
            "2140/2140 [==============================] - 4s 2ms/step - loss: 0.1810\n",
            "Epoch 68/200\n",
            "2140/2140 [==============================] - 4s 2ms/step - loss: 0.1805\n",
            "Epoch 69/200\n",
            "2140/2140 [==============================] - 4s 2ms/step - loss: 0.1807\n",
            "Epoch 70/200\n",
            "2140/2140 [==============================] - 4s 2ms/step - loss: 0.1807\n",
            "Epoch 71/200\n",
            "2140/2140 [==============================] - 4s 2ms/step - loss: 0.1798\n",
            "Epoch 72/200\n",
            "2140/2140 [==============================] - 4s 2ms/step - loss: 0.1794\n",
            "Epoch 73/200\n",
            "2140/2140 [==============================] - 4s 2ms/step - loss: 0.1795\n",
            "Epoch 74/200\n",
            "2140/2140 [==============================] - 4s 2ms/step - loss: 0.1802\n",
            "Epoch 75/200\n",
            "2140/2140 [==============================] - 4s 2ms/step - loss: 0.1782\n",
            "Epoch 76/200\n",
            "2140/2140 [==============================] - 4s 2ms/step - loss: 0.1790\n",
            "Epoch 77/200\n",
            "2140/2140 [==============================] - 4s 2ms/step - loss: 0.1783\n",
            "Epoch 78/200\n",
            "2140/2140 [==============================] - 4s 2ms/step - loss: 0.1780\n",
            "Epoch 79/200\n",
            "2140/2140 [==============================] - 4s 2ms/step - loss: 0.1779\n",
            "Epoch 80/200\n",
            "2140/2140 [==============================] - 4s 2ms/step - loss: 0.1781\n",
            "Epoch 81/200\n",
            "2140/2140 [==============================] - 4s 2ms/step - loss: 0.1774\n",
            "Epoch 82/200\n",
            "2140/2140 [==============================] - 4s 2ms/step - loss: 0.1764\n",
            "Epoch 83/200\n",
            "2140/2140 [==============================] - 4s 2ms/step - loss: 0.1775\n",
            "Epoch 84/200\n",
            "2140/2140 [==============================] - 4s 2ms/step - loss: 0.1765\n",
            "Epoch 85/200\n",
            "2140/2140 [==============================] - 4s 2ms/step - loss: 0.1762\n",
            "Epoch 86/200\n",
            "2140/2140 [==============================] - 4s 2ms/step - loss: 0.1761\n",
            "Epoch 87/200\n",
            "2140/2140 [==============================] - 4s 2ms/step - loss: 0.1754\n",
            "Epoch 88/200\n",
            "2140/2140 [==============================] - 4s 2ms/step - loss: 0.1757\n",
            "Epoch 89/200\n",
            "2140/2140 [==============================] - 4s 2ms/step - loss: 0.1751\n",
            "Epoch 90/200\n",
            "2140/2140 [==============================] - 4s 2ms/step - loss: 0.1755\n",
            "Epoch 91/200\n",
            "2140/2140 [==============================] - 4s 2ms/step - loss: 0.1751\n",
            "Epoch 92/200\n",
            "2140/2140 [==============================] - 4s 2ms/step - loss: 0.1749\n",
            "Epoch 93/200\n",
            "2140/2140 [==============================] - 4s 2ms/step - loss: 0.1744\n",
            "Epoch 94/200\n",
            "2140/2140 [==============================] - 4s 2ms/step - loss: 0.1745\n",
            "Epoch 95/200\n",
            "2140/2140 [==============================] - 4s 2ms/step - loss: 0.1736\n",
            "Epoch 96/200\n",
            "2140/2140 [==============================] - 4s 2ms/step - loss: 0.1738\n",
            "Epoch 97/200\n",
            "2140/2140 [==============================] - 4s 2ms/step - loss: 0.1737\n",
            "Epoch 98/200\n",
            "2140/2140 [==============================] - 4s 2ms/step - loss: 0.1731\n",
            "Epoch 99/200\n",
            "2140/2140 [==============================] - 4s 2ms/step - loss: 0.1728\n",
            "Epoch 100/200\n",
            "2140/2140 [==============================] - 4s 2ms/step - loss: 0.1725\n",
            "Epoch 101/200\n",
            "2140/2140 [==============================] - 4s 2ms/step - loss: 0.1735\n",
            "Epoch 102/200\n",
            "2140/2140 [==============================] - 4s 2ms/step - loss: 0.1731\n",
            "Epoch 103/200\n",
            "2140/2140 [==============================] - 4s 2ms/step - loss: 0.1727\n",
            "Epoch 104/200\n",
            "2140/2140 [==============================] - 4s 2ms/step - loss: 0.1720\n",
            "Epoch 105/200\n",
            "2140/2140 [==============================] - 4s 2ms/step - loss: 0.1723\n",
            "Epoch 106/200\n",
            "2140/2140 [==============================] - 4s 2ms/step - loss: 0.1718\n",
            "Epoch 107/200\n",
            "2140/2140 [==============================] - 4s 2ms/step - loss: 0.1719\n",
            "Epoch 108/200\n",
            "2140/2140 [==============================] - 4s 2ms/step - loss: 0.1713\n",
            "Epoch 109/200\n",
            "2140/2140 [==============================] - 4s 2ms/step - loss: 0.1714\n",
            "Epoch 110/200\n",
            "2140/2140 [==============================] - 4s 2ms/step - loss: 0.1716\n",
            "Epoch 111/200\n",
            "2140/2140 [==============================] - 4s 2ms/step - loss: 0.1710\n",
            "Epoch 112/200\n",
            "2140/2140 [==============================] - 4s 2ms/step - loss: 0.1704\n",
            "Epoch 113/200\n",
            "2140/2140 [==============================] - 4s 2ms/step - loss: 0.1706\n",
            "Epoch 114/200\n",
            "2140/2140 [==============================] - 4s 2ms/step - loss: 0.1707\n",
            "Epoch 115/200\n",
            "2140/2140 [==============================] - 4s 2ms/step - loss: 0.1703\n",
            "Epoch 116/200\n",
            "2140/2140 [==============================] - 4s 2ms/step - loss: 0.1704\n",
            "Epoch 117/200\n",
            "2140/2140 [==============================] - 4s 2ms/step - loss: 0.1694\n",
            "Epoch 118/200\n",
            "2140/2140 [==============================] - 4s 2ms/step - loss: 0.1702\n",
            "Epoch 119/200\n",
            "2140/2140 [==============================] - 4s 2ms/step - loss: 0.1699\n",
            "Epoch 120/200\n",
            "2140/2140 [==============================] - 4s 2ms/step - loss: 0.1705\n",
            "Epoch 121/200\n",
            "2140/2140 [==============================] - 4s 2ms/step - loss: 0.1690\n",
            "Epoch 122/200\n",
            "2140/2140 [==============================] - 4s 2ms/step - loss: 0.1692\n",
            "Epoch 123/200\n",
            "2140/2140 [==============================] - 4s 2ms/step - loss: 0.1695\n",
            "Epoch 124/200\n",
            "2140/2140 [==============================] - 4s 2ms/step - loss: 0.1686\n",
            "Epoch 125/200\n",
            "2140/2140 [==============================] - 4s 2ms/step - loss: 0.1684\n",
            "Epoch 126/200\n",
            "2140/2140 [==============================] - 4s 2ms/step - loss: 0.1683\n",
            "Epoch 127/200\n",
            "2140/2140 [==============================] - 4s 2ms/step - loss: 0.1691\n",
            "Epoch 128/200\n",
            "2140/2140 [==============================] - 4s 2ms/step - loss: 0.1683\n",
            "Epoch 129/200\n",
            "2140/2140 [==============================] - 4s 2ms/step - loss: 0.1683\n",
            "Epoch 130/200\n",
            "2140/2140 [==============================] - 4s 2ms/step - loss: 0.1681\n",
            "Epoch 131/200\n",
            "2140/2140 [==============================] - 4s 2ms/step - loss: 0.1686\n",
            "Epoch 132/200\n",
            "2140/2140 [==============================] - 4s 2ms/step - loss: 0.1683\n",
            "Epoch 133/200\n",
            "2140/2140 [==============================] - 4s 2ms/step - loss: 0.1688\n",
            "Epoch 134/200\n",
            "2140/2140 [==============================] - 4s 2ms/step - loss: 0.1671\n",
            "Epoch 135/200\n",
            "2140/2140 [==============================] - 4s 2ms/step - loss: 0.1673\n",
            "Epoch 136/200\n",
            "2140/2140 [==============================] - 4s 2ms/step - loss: 0.1676\n",
            "Epoch 137/200\n",
            "2140/2140 [==============================] - 4s 2ms/step - loss: 0.1674\n",
            "Epoch 138/200\n",
            "2140/2140 [==============================] - 4s 2ms/step - loss: 0.1669\n",
            "Epoch 139/200\n",
            "2140/2140 [==============================] - 4s 2ms/step - loss: 0.1671\n",
            "Epoch 140/200\n",
            "2140/2140 [==============================] - 4s 2ms/step - loss: 0.1682\n",
            "Epoch 141/200\n",
            "2140/2140 [==============================] - 4s 2ms/step - loss: 0.1673\n",
            "Epoch 142/200\n",
            "2140/2140 [==============================] - 4s 2ms/step - loss: 0.1669\n",
            "Epoch 143/200\n",
            "2140/2140 [==============================] - 4s 2ms/step - loss: 0.1669\n",
            "Epoch 144/200\n",
            "2140/2140 [==============================] - 4s 2ms/step - loss: 0.1669\n",
            "Epoch 145/200\n",
            "2140/2140 [==============================] - 4s 2ms/step - loss: 0.1674\n",
            "Epoch 146/200\n",
            "2140/2140 [==============================] - 4s 2ms/step - loss: 0.1671\n",
            "Epoch 147/200\n",
            "2140/2140 [==============================] - 4s 2ms/step - loss: 0.1665\n",
            "Epoch 148/200\n",
            "2140/2140 [==============================] - 4s 2ms/step - loss: 0.1654\n",
            "Epoch 149/200\n",
            "2140/2140 [==============================] - 4s 2ms/step - loss: 0.1664\n",
            "Epoch 150/200\n",
            "2140/2140 [==============================] - 4s 2ms/step - loss: 0.1681\n",
            "Epoch 151/200\n",
            "2140/2140 [==============================] - 4s 2ms/step - loss: 0.1672\n",
            "Epoch 152/200\n",
            "2140/2140 [==============================] - 4s 2ms/step - loss: 0.1656\n",
            "Epoch 153/200\n",
            "2140/2140 [==============================] - 4s 2ms/step - loss: 0.1652\n",
            "Epoch 154/200\n",
            "2140/2140 [==============================] - 4s 2ms/step - loss: 0.1655\n",
            "Epoch 155/200\n",
            "2140/2140 [==============================] - 4s 2ms/step - loss: 0.1658\n",
            "Epoch 156/200\n",
            "2140/2140 [==============================] - 4s 2ms/step - loss: 0.1656\n",
            "Epoch 157/200\n",
            "2140/2140 [==============================] - 4s 2ms/step - loss: 0.1655\n",
            "Epoch 158/200\n",
            "2140/2140 [==============================] - 4s 2ms/step - loss: 0.1651\n",
            "Epoch 159/200\n",
            "2140/2140 [==============================] - 4s 2ms/step - loss: 0.1651\n",
            "Epoch 160/200\n",
            "2140/2140 [==============================] - 4s 2ms/step - loss: 0.1647\n",
            "Epoch 161/200\n",
            "2140/2140 [==============================] - 4s 2ms/step - loss: 0.1648\n",
            "Epoch 162/200\n",
            "2140/2140 [==============================] - 4s 2ms/step - loss: 0.1647\n",
            "Epoch 163/200\n",
            "2140/2140 [==============================] - 4s 2ms/step - loss: 0.1654\n",
            "Epoch 164/200\n",
            "2140/2140 [==============================] - 4s 2ms/step - loss: 0.1649\n",
            "Epoch 165/200\n",
            "2140/2140 [==============================] - 4s 2ms/step - loss: 0.1647\n",
            "Epoch 166/200\n",
            "2140/2140 [==============================] - 4s 2ms/step - loss: 0.1647\n",
            "Epoch 167/200\n",
            "2140/2140 [==============================] - 4s 2ms/step - loss: 0.1648\n",
            "Epoch 168/200\n",
            "2140/2140 [==============================] - 4s 2ms/step - loss: 0.1642\n",
            "Epoch 169/200\n",
            "2140/2140 [==============================] - 4s 2ms/step - loss: 0.1644\n",
            "Epoch 170/200\n",
            "2140/2140 [==============================] - 4s 2ms/step - loss: 0.1641\n",
            "Epoch 171/200\n",
            "2140/2140 [==============================] - 4s 2ms/step - loss: 0.1636\n",
            "Epoch 172/200\n",
            "2140/2140 [==============================] - 4s 2ms/step - loss: 0.1650\n",
            "Epoch 173/200\n",
            "2140/2140 [==============================] - 4s 2ms/step - loss: 0.1638\n",
            "Epoch 174/200\n",
            "2140/2140 [==============================] - 4s 2ms/step - loss: 0.1626\n",
            "Epoch 175/200\n",
            "2140/2140 [==============================] - 4s 2ms/step - loss: 0.1648\n",
            "Epoch 176/200\n",
            "2140/2140 [==============================] - 4s 2ms/step - loss: 0.1636\n",
            "Epoch 177/200\n",
            "2140/2140 [==============================] - 4s 2ms/step - loss: 0.1641\n",
            "Epoch 178/200\n",
            "2140/2140 [==============================] - 4s 2ms/step - loss: 0.1631\n",
            "Epoch 179/200\n",
            "2140/2140 [==============================] - 4s 2ms/step - loss: 0.1647\n",
            "Epoch 180/200\n",
            "2140/2140 [==============================] - 4s 2ms/step - loss: 0.1644\n",
            "Epoch 181/200\n",
            "2140/2140 [==============================] - 4s 2ms/step - loss: 0.1639\n",
            "Epoch 182/200\n",
            "2140/2140 [==============================] - 4s 2ms/step - loss: 0.1620\n",
            "Epoch 183/200\n",
            "2140/2140 [==============================] - 4s 2ms/step - loss: 0.1639\n",
            "Epoch 184/200\n",
            "2140/2140 [==============================] - 4s 2ms/step - loss: 0.1630\n",
            "Epoch 185/200\n",
            "2140/2140 [==============================] - 4s 2ms/step - loss: 0.1630\n",
            "Epoch 186/200\n",
            "2140/2140 [==============================] - 4s 2ms/step - loss: 0.1620\n",
            "Epoch 187/200\n",
            "2140/2140 [==============================] - 4s 2ms/step - loss: 0.1626\n",
            "Epoch 188/200\n",
            "2140/2140 [==============================] - 4s 2ms/step - loss: 0.1633\n",
            "Epoch 189/200\n",
            "2140/2140 [==============================] - 5s 2ms/step - loss: 0.1629\n",
            "Epoch 190/200\n",
            "2140/2140 [==============================] - 4s 2ms/step - loss: 0.1615\n",
            "Epoch 191/200\n",
            "2140/2140 [==============================] - 4s 2ms/step - loss: 0.1619\n",
            "Epoch 192/200\n",
            "2140/2140 [==============================] - 4s 2ms/step - loss: 0.1628\n",
            "Epoch 193/200\n",
            "2140/2140 [==============================] - 4s 2ms/step - loss: 0.1620\n",
            "Epoch 194/200\n",
            "2140/2140 [==============================] - 4s 2ms/step - loss: 0.1622\n",
            "Epoch 195/200\n",
            "2140/2140 [==============================] - 4s 2ms/step - loss: 0.1622\n",
            "Epoch 196/200\n",
            "2140/2140 [==============================] - 4s 2ms/step - loss: 0.1620\n",
            "Epoch 197/200\n",
            "2140/2140 [==============================] - 4s 2ms/step - loss: 0.1616\n",
            "Epoch 198/200\n",
            "2140/2140 [==============================] - 4s 2ms/step - loss: 0.1628\n",
            "Epoch 199/200\n",
            "2140/2140 [==============================] - 4s 2ms/step - loss: 0.1629\n",
            "Epoch 200/200\n",
            "2140/2140 [==============================] - 4s 2ms/step - loss: 0.1612\n"
          ],
          "name": "stdout"
        }
      ]
    },
    {
      "cell_type": "code",
      "metadata": {
        "colab": {
          "base_uri": "https://localhost:8080/",
          "height": 281
        },
        "id": "HzypZdovbLLn",
        "outputId": "8eef4a66-be69-4e89-c9b9-67335c73f63d"
      },
      "source": [
        "plt.plot(trained_model.history[\"loss\"])"
      ],
      "execution_count": 44,
      "outputs": [
        {
          "output_type": "execute_result",
          "data": {
            "text/plain": [
              "[<matplotlib.lines.Line2D at 0x7fa6b7a3e710>]"
            ]
          },
          "metadata": {
            "tags": []
          },
          "execution_count": 44
        },
        {
          "output_type": "display_data",
          "data": {
            "image/png": "[encoded data removed]",
            "text/plain": [
              "<Figure size 432x288 with 1 Axes>"
            ]
          },
          "metadata": {
            "tags": [],
            "needs_background": "light"
          }
        }
      ]
    },
    {
      "cell_type": "markdown",
      "metadata": {
        "id": "QtedNG2SbP9r"
      },
      "source": [
        "# Prediction"
      ]
    },
    {
      "cell_type": "code",
      "metadata": {
        "id": "cPD-3wu0bNzY"
      },
      "source": [
        "Y_pred = model.predict(X_test)"
      ],
      "execution_count": 45,
      "outputs": []
    },
    {
      "cell_type": "markdown",
      "metadata": {
        "id": "KizdEy1kcw_G"
      },
      "source": [
        "# Evaluation"
      ]
    },
    {
      "cell_type": "code",
      "metadata": {
        "colab": {
          "base_uri": "https://localhost:8080/"
        },
        "id": "o1k1OABqctfS",
        "outputId": "a041ba13-b745-4154-bb7f-96823476ebd5"
      },
      "source": [
        "from sklearn.metrics import r2_score,mean_squared_error\n",
        "acc1 = (r2_score(Y_test,Y_pred))\n",
        "print(acc1)"
      ],
      "execution_count": 46,
      "outputs": [
        {
          "output_type": "stream",
          "text": [
            "0.5311732200778996\n"
          ],
          "name": "stdout"
        }
      ]
    },
    {
      "cell_type": "markdown",
      "metadata": {
        "id": "10C1VJvz605d"
      },
      "source": [
        "Model 2"
      ]
    },
    {
      "cell_type": "code",
      "metadata": {
        "id": "qFPLfLkldVPD"
      },
      "source": [
        "model2 = Sequential()\n",
        "model2.add(Dense(30, activation=\"relu\", input_dim=10))\n",
        "model2.add(Dense(30, activation=\"relu\"))\n",
        "model2.add(Dense(25, activation=\"relu\"))\n",
        "model2.add(Dense(12, activation=\"relu\"))\n",
        "model2.add(Dense(10, activation=\"relu\"))\n",
        "model2.add(Dense(8, activation=\"relu\"))\n",
        "model2.add(Dense(1))"
      ],
      "execution_count": 47,
      "outputs": []
    },
    {
      "cell_type": "code",
      "metadata": {
        "colab": {
          "base_uri": "https://localhost:8080/"
        },
        "id": "dLC5xZpM6-yb",
        "outputId": "f1563cca-2178-4abc-aea5-4b165bf61a96"
      },
      "source": [
        "model2.compile(optimizer=\"adam\", loss=\"mse\")\n",
        "\n",
        "trained_model2 = model2.fit(X_train, Y_train, epochs=200,batch_size=32)"
      ],
      "execution_count": 48,
      "outputs": [
        {
          "output_type": "stream",
          "text": [
            "Epoch 1/200\n",
            "1070/1070 [==============================] - 3s 2ms/step - loss: 0.9916\n",
            "Epoch 2/200\n",
            "1070/1070 [==============================] - 2s 2ms/step - loss: 0.2393\n",
            "Epoch 3/200\n",
            "1070/1070 [==============================] - 2s 2ms/step - loss: 0.2278\n",
            "Epoch 4/200\n",
            "1070/1070 [==============================] - 2s 2ms/step - loss: 0.2223\n",
            "Epoch 5/200\n",
            "1070/1070 [==============================] - 2s 2ms/step - loss: 0.2207\n",
            "Epoch 6/200\n",
            "1070/1070 [==============================] - 2s 2ms/step - loss: 0.2181\n",
            "Epoch 7/200\n",
            "1070/1070 [==============================] - 2s 2ms/step - loss: 0.2155\n",
            "Epoch 8/200\n",
            "1070/1070 [==============================] - 2s 2ms/step - loss: 0.2149\n",
            "Epoch 9/200\n",
            "1070/1070 [==============================] - 2s 2ms/step - loss: 0.2146\n",
            "Epoch 10/200\n",
            "1070/1070 [==============================] - 2s 2ms/step - loss: 0.2132\n",
            "Epoch 11/200\n",
            "1070/1070 [==============================] - 2s 2ms/step - loss: 0.2119\n",
            "Epoch 12/200\n",
            "1070/1070 [==============================] - 2s 2ms/step - loss: 0.2115\n",
            "Epoch 13/200\n",
            "1070/1070 [==============================] - 2s 2ms/step - loss: 0.2097\n",
            "Epoch 14/200\n",
            "1070/1070 [==============================] - 2s 2ms/step - loss: 0.2100\n",
            "Epoch 15/200\n",
            "1070/1070 [==============================] - 2s 2ms/step - loss: 0.2076\n",
            "Epoch 16/200\n",
            "1070/1070 [==============================] - 2s 2ms/step - loss: 0.2077\n",
            "Epoch 17/200\n",
            "1070/1070 [==============================] - 2s 2ms/step - loss: 0.2077\n",
            "Epoch 18/200\n",
            "1070/1070 [==============================] - 2s 2ms/step - loss: 0.2061\n",
            "Epoch 19/200\n",
            "1070/1070 [==============================] - 2s 2ms/step - loss: 0.2063\n",
            "Epoch 20/200\n",
            "1070/1070 [==============================] - 2s 2ms/step - loss: 0.2052\n",
            "Epoch 21/200\n",
            "1070/1070 [==============================] - 2s 2ms/step - loss: 0.2056\n",
            "Epoch 22/200\n",
            "1070/1070 [==============================] - 2s 2ms/step - loss: 0.2043\n",
            "Epoch 23/200\n",
            "1070/1070 [==============================] - 2s 2ms/step - loss: 0.2047\n",
            "Epoch 24/200\n",
            "1070/1070 [==============================] - 2s 2ms/step - loss: 0.2034\n",
            "Epoch 25/200\n",
            "1070/1070 [==============================] - 2s 2ms/step - loss: 0.2031\n",
            "Epoch 26/200\n",
            "1070/1070 [==============================] - 2s 2ms/step - loss: 0.2022\n",
            "Epoch 27/200\n",
            "1070/1070 [==============================] - 2s 2ms/step - loss: 0.2022\n",
            "Epoch 28/200\n",
            "1070/1070 [==============================] - 2s 2ms/step - loss: 0.2018\n",
            "Epoch 29/200\n",
            "1070/1070 [==============================] - 2s 2ms/step - loss: 0.2017\n",
            "Epoch 30/200\n",
            "1070/1070 [==============================] - 2s 2ms/step - loss: 0.2006\n",
            "Epoch 31/200\n",
            "1070/1070 [==============================] - 2s 2ms/step - loss: 0.2002\n",
            "Epoch 32/200\n",
            "1070/1070 [==============================] - 2s 2ms/step - loss: 0.2014\n",
            "Epoch 33/200\n",
            "1070/1070 [==============================] - 2s 2ms/step - loss: 0.1999\n",
            "Epoch 34/200\n",
            "1070/1070 [==============================] - 2s 2ms/step - loss: 0.1995\n",
            "Epoch 35/200\n",
            "1070/1070 [==============================] - 2s 2ms/step - loss: 0.1995\n",
            "Epoch 36/200\n",
            "1070/1070 [==============================] - 2s 2ms/step - loss: 0.1989\n",
            "Epoch 37/200\n",
            "1070/1070 [==============================] - 2s 2ms/step - loss: 0.1991\n",
            "Epoch 38/200\n",
            "1070/1070 [==============================] - 2s 2ms/step - loss: 0.1989\n",
            "Epoch 39/200\n",
            "1070/1070 [==============================] - 2s 2ms/step - loss: 0.1986\n",
            "Epoch 40/200\n",
            "1070/1070 [==============================] - 2s 2ms/step - loss: 0.1973\n",
            "Epoch 41/200\n",
            "1070/1070 [==============================] - 2s 2ms/step - loss: 0.1974\n",
            "Epoch 42/200\n",
            "1070/1070 [==============================] - 2s 2ms/step - loss: 0.1968\n",
            "Epoch 43/200\n",
            "1070/1070 [==============================] - 2s 2ms/step - loss: 0.1975\n",
            "Epoch 44/200\n",
            "1070/1070 [==============================] - 2s 2ms/step - loss: 0.1971\n",
            "Epoch 45/200\n",
            "1070/1070 [==============================] - 2s 2ms/step - loss: 0.1971\n",
            "Epoch 46/200\n",
            "1070/1070 [==============================] - 2s 2ms/step - loss: 0.1963\n",
            "Epoch 47/200\n",
            "1070/1070 [==============================] - 2s 2ms/step - loss: 0.1957\n",
            "Epoch 48/200\n",
            "1070/1070 [==============================] - 2s 2ms/step - loss: 0.1961\n",
            "Epoch 49/200\n",
            "1070/1070 [==============================] - 2s 2ms/step - loss: 0.1956\n",
            "Epoch 50/200\n",
            "1070/1070 [==============================] - 2s 2ms/step - loss: 0.1949\n",
            "Epoch 51/200\n",
            "1070/1070 [==============================] - 2s 2ms/step - loss: 0.1951\n",
            "Epoch 52/200\n",
            "1070/1070 [==============================] - 2s 2ms/step - loss: 0.1949\n",
            "Epoch 53/200\n",
            "1070/1070 [==============================] - 2s 2ms/step - loss: 0.1941\n",
            "Epoch 54/200\n",
            "1070/1070 [==============================] - 2s 2ms/step - loss: 0.1947\n",
            "Epoch 55/200\n",
            "1070/1070 [==============================] - 2s 2ms/step - loss: 0.1941\n",
            "Epoch 56/200\n",
            "1070/1070 [==============================] - 2s 2ms/step - loss: 0.1939\n",
            "Epoch 57/200\n",
            "1070/1070 [==============================] - 2s 2ms/step - loss: 0.1939\n",
            "Epoch 58/200\n",
            "1070/1070 [==============================] - 2s 2ms/step - loss: 0.1934\n",
            "Epoch 59/200\n",
            "1070/1070 [==============================] - 2s 2ms/step - loss: 0.1933\n",
            "Epoch 60/200\n",
            "1070/1070 [==============================] - 2s 2ms/step - loss: 0.1929\n",
            "Epoch 61/200\n",
            "1070/1070 [==============================] - 2s 2ms/step - loss: 0.1931\n",
            "Epoch 62/200\n",
            "1070/1070 [==============================] - 2s 2ms/step - loss: 0.1937\n",
            "Epoch 63/200\n",
            "1070/1070 [==============================] - 2s 2ms/step - loss: 0.1926\n",
            "Epoch 64/200\n",
            "1070/1070 [==============================] - 2s 2ms/step - loss: 0.1927\n",
            "Epoch 65/200\n",
            "1070/1070 [==============================] - 2s 2ms/step - loss: 0.1922\n",
            "Epoch 66/200\n",
            "1070/1070 [==============================] - 2s 2ms/step - loss: 0.1924\n",
            "Epoch 67/200\n",
            "1070/1070 [==============================] - 2s 2ms/step - loss: 0.1912\n",
            "Epoch 68/200\n",
            "1070/1070 [==============================] - 2s 2ms/step - loss: 0.1914\n",
            "Epoch 69/200\n",
            "1070/1070 [==============================] - 2s 2ms/step - loss: 0.1921\n",
            "Epoch 70/200\n",
            "1070/1070 [==============================] - 2s 2ms/step - loss: 0.1918\n",
            "Epoch 71/200\n",
            "1070/1070 [==============================] - 2s 2ms/step - loss: 0.1918\n",
            "Epoch 72/200\n",
            "1070/1070 [==============================] - 2s 2ms/step - loss: 0.1907\n",
            "Epoch 73/200\n",
            "1070/1070 [==============================] - 2s 2ms/step - loss: 0.1906\n",
            "Epoch 74/200\n",
            "1070/1070 [==============================] - 2s 2ms/step - loss: 0.1908\n",
            "Epoch 75/200\n",
            "1070/1070 [==============================] - 2s 2ms/step - loss: 0.1908\n",
            "Epoch 76/200\n",
            "1070/1070 [==============================] - 2s 2ms/step - loss: 0.1897\n",
            "Epoch 77/200\n",
            "1070/1070 [==============================] - 2s 2ms/step - loss: 0.1902\n",
            "Epoch 78/200\n",
            "1070/1070 [==============================] - 2s 2ms/step - loss: 0.1898\n",
            "Epoch 79/200\n",
            "1070/1070 [==============================] - 2s 2ms/step - loss: 0.1892\n",
            "Epoch 80/200\n",
            "1070/1070 [==============================] - 2s 2ms/step - loss: 0.1894\n",
            "Epoch 81/200\n",
            "1070/1070 [==============================] - 2s 2ms/step - loss: 0.1892\n",
            "Epoch 82/200\n",
            "1070/1070 [==============================] - 2s 2ms/step - loss: 0.1892\n",
            "Epoch 83/200\n",
            "1070/1070 [==============================] - 2s 2ms/step - loss: 0.1892\n",
            "Epoch 84/200\n",
            "1070/1070 [==============================] - 2s 2ms/step - loss: 0.1888\n",
            "Epoch 85/200\n",
            "1070/1070 [==============================] - 2s 2ms/step - loss: 0.1890\n",
            "Epoch 86/200\n",
            "1070/1070 [==============================] - 2s 2ms/step - loss: 0.1882\n",
            "Epoch 87/200\n",
            "1070/1070 [==============================] - 2s 2ms/step - loss: 0.1881\n",
            "Epoch 88/200\n",
            "1070/1070 [==============================] - 2s 2ms/step - loss: 0.1881\n",
            "Epoch 89/200\n",
            "1070/1070 [==============================] - 2s 2ms/step - loss: 0.1874\n",
            "Epoch 90/200\n",
            "1070/1070 [==============================] - 2s 2ms/step - loss: 0.1868\n",
            "Epoch 91/200\n",
            "1070/1070 [==============================] - 2s 2ms/step - loss: 0.1882\n",
            "Epoch 92/200\n",
            "1070/1070 [==============================] - 2s 2ms/step - loss: 0.1872\n",
            "Epoch 93/200\n",
            "1070/1070 [==============================] - 2s 2ms/step - loss: 0.1876\n",
            "Epoch 94/200\n",
            "1070/1070 [==============================] - 2s 2ms/step - loss: 0.1872\n",
            "Epoch 95/200\n",
            "1070/1070 [==============================] - 2s 2ms/step - loss: 0.1875\n",
            "Epoch 96/200\n",
            "1070/1070 [==============================] - 2s 2ms/step - loss: 0.1867\n",
            "Epoch 97/200\n",
            "1070/1070 [==============================] - 2s 2ms/step - loss: 0.1867\n",
            "Epoch 98/200\n",
            "1070/1070 [==============================] - 2s 2ms/step - loss: 0.1870\n",
            "Epoch 99/200\n",
            "1070/1070 [==============================] - 2s 2ms/step - loss: 0.1872\n",
            "Epoch 100/200\n",
            "1070/1070 [==============================] - 2s 2ms/step - loss: 0.1861\n",
            "Epoch 101/200\n",
            "1070/1070 [==============================] - 2s 2ms/step - loss: 0.1864\n",
            "Epoch 102/200\n",
            "1070/1070 [==============================] - 2s 2ms/step - loss: 0.1857\n",
            "Epoch 103/200\n",
            "1070/1070 [==============================] - 2s 2ms/step - loss: 0.1864\n",
            "Epoch 104/200\n",
            "1070/1070 [==============================] - 2s 2ms/step - loss: 0.1853\n",
            "Epoch 105/200\n",
            "1070/1070 [==============================] - 2s 2ms/step - loss: 0.1856\n",
            "Epoch 106/200\n",
            "1070/1070 [==============================] - 2s 2ms/step - loss: 0.1854\n",
            "Epoch 107/200\n",
            "1070/1070 [==============================] - 2s 2ms/step - loss: 0.1858\n",
            "Epoch 108/200\n",
            "1070/1070 [==============================] - 2s 2ms/step - loss: 0.1857\n",
            "Epoch 109/200\n",
            "1070/1070 [==============================] - 2s 2ms/step - loss: 0.1856\n",
            "Epoch 110/200\n",
            "1070/1070 [==============================] - 2s 2ms/step - loss: 0.1850\n",
            "Epoch 111/200\n",
            "1070/1070 [==============================] - 2s 2ms/step - loss: 0.1853\n",
            "Epoch 112/200\n",
            "1070/1070 [==============================] - 2s 2ms/step - loss: 0.1842\n",
            "Epoch 113/200\n",
            "1070/1070 [==============================] - 2s 2ms/step - loss: 0.1849\n",
            "Epoch 114/200\n",
            "1070/1070 [==============================] - 2s 2ms/step - loss: 0.1846\n",
            "Epoch 115/200\n",
            "1070/1070 [==============================] - 2s 2ms/step - loss: 0.1851\n",
            "Epoch 116/200\n",
            "1070/1070 [==============================] - 2s 2ms/step - loss: 0.1845\n",
            "Epoch 117/200\n",
            "1070/1070 [==============================] - 2s 2ms/step - loss: 0.1842\n",
            "Epoch 118/200\n",
            "1070/1070 [==============================] - 2s 2ms/step - loss: 0.1844\n",
            "Epoch 119/200\n",
            "1070/1070 [==============================] - 2s 2ms/step - loss: 0.1844\n",
            "Epoch 120/200\n",
            "1070/1070 [==============================] - 2s 2ms/step - loss: 0.1836\n",
            "Epoch 121/200\n",
            "1070/1070 [==============================] - 2s 2ms/step - loss: 0.1841\n",
            "Epoch 122/200\n",
            "1070/1070 [==============================] - 2s 2ms/step - loss: 0.1835\n",
            "Epoch 123/200\n",
            "1070/1070 [==============================] - 2s 2ms/step - loss: 0.1845\n",
            "Epoch 124/200\n",
            "1070/1070 [==============================] - 2s 2ms/step - loss: 0.1834\n",
            "Epoch 125/200\n",
            "1070/1070 [==============================] - 2s 2ms/step - loss: 0.1829\n",
            "Epoch 126/200\n",
            "1070/1070 [==============================] - 2s 2ms/step - loss: 0.1830\n",
            "Epoch 127/200\n",
            "1070/1070 [==============================] - 2s 2ms/step - loss: 0.1827\n",
            "Epoch 128/200\n",
            "1070/1070 [==============================] - 2s 2ms/step - loss: 0.1831\n",
            "Epoch 129/200\n",
            "1070/1070 [==============================] - 2s 2ms/step - loss: 0.1828\n",
            "Epoch 130/200\n",
            "1070/1070 [==============================] - 2s 2ms/step - loss: 0.1822\n",
            "Epoch 131/200\n",
            "1070/1070 [==============================] - 2s 2ms/step - loss: 0.1825\n",
            "Epoch 132/200\n",
            "1070/1070 [==============================] - 2s 2ms/step - loss: 0.1821\n",
            "Epoch 133/200\n",
            "1070/1070 [==============================] - 2s 2ms/step - loss: 0.1828\n",
            "Epoch 134/200\n",
            "1070/1070 [==============================] - 2s 2ms/step - loss: 0.1826\n",
            "Epoch 135/200\n",
            "1070/1070 [==============================] - 2s 2ms/step - loss: 0.1816\n",
            "Epoch 136/200\n",
            "1070/1070 [==============================] - 2s 2ms/step - loss: 0.1813\n",
            "Epoch 137/200\n",
            "1070/1070 [==============================] - 2s 2ms/step - loss: 0.1818\n",
            "Epoch 138/200\n",
            "1070/1070 [==============================] - 2s 2ms/step - loss: 0.1820\n",
            "Epoch 139/200\n",
            "1070/1070 [==============================] - 2s 2ms/step - loss: 0.1818\n",
            "Epoch 140/200\n",
            "1070/1070 [==============================] - 2s 2ms/step - loss: 0.1818\n",
            "Epoch 141/200\n",
            "1070/1070 [==============================] - 2s 2ms/step - loss: 0.1803\n",
            "Epoch 142/200\n",
            "1070/1070 [==============================] - 2s 2ms/step - loss: 0.1816\n",
            "Epoch 143/200\n",
            "1070/1070 [==============================] - 2s 2ms/step - loss: 0.1820\n",
            "Epoch 144/200\n",
            "1070/1070 [==============================] - 2s 2ms/step - loss: 0.1811\n",
            "Epoch 145/200\n",
            "1070/1070 [==============================] - 2s 2ms/step - loss: 0.1808\n",
            "Epoch 146/200\n",
            "1070/1070 [==============================] - 2s 2ms/step - loss: 0.1819\n",
            "Epoch 147/200\n",
            "1070/1070 [==============================] - 2s 2ms/step - loss: 0.1809\n",
            "Epoch 148/200\n",
            "1070/1070 [==============================] - 2s 2ms/step - loss: 0.1805\n",
            "Epoch 149/200\n",
            "1070/1070 [==============================] - 2s 2ms/step - loss: 0.1801\n",
            "Epoch 150/200\n",
            "1070/1070 [==============================] - 2s 2ms/step - loss: 0.1800\n",
            "Epoch 151/200\n",
            "1070/1070 [==============================] - 2s 2ms/step - loss: 0.1807\n",
            "Epoch 152/200\n",
            "1070/1070 [==============================] - 2s 2ms/step - loss: 0.1803\n",
            "Epoch 153/200\n",
            "1070/1070 [==============================] - 2s 2ms/step - loss: 0.1800\n",
            "Epoch 154/200\n",
            "1070/1070 [==============================] - 2s 2ms/step - loss: 0.1799\n",
            "Epoch 155/200\n",
            "1070/1070 [==============================] - 2s 2ms/step - loss: 0.1801\n",
            "Epoch 156/200\n",
            "1070/1070 [==============================] - 2s 2ms/step - loss: 0.1805\n",
            "Epoch 157/200\n",
            "1070/1070 [==============================] - 2s 2ms/step - loss: 0.1796\n",
            "Epoch 158/200\n",
            "1070/1070 [==============================] - 2s 2ms/step - loss: 0.1793\n",
            "Epoch 159/200\n",
            "1070/1070 [==============================] - 2s 2ms/step - loss: 0.1800\n",
            "Epoch 160/200\n",
            "1070/1070 [==============================] - 2s 2ms/step - loss: 0.1791\n",
            "Epoch 161/200\n",
            "1070/1070 [==============================] - 2s 2ms/step - loss: 0.1804\n",
            "Epoch 162/200\n",
            "1070/1070 [==============================] - 2s 2ms/step - loss: 0.1798\n",
            "Epoch 163/200\n",
            "1070/1070 [==============================] - 2s 2ms/step - loss: 0.1789\n",
            "Epoch 164/200\n",
            "1070/1070 [==============================] - 2s 2ms/step - loss: 0.1787\n",
            "Epoch 165/200\n",
            "1070/1070 [==============================] - 2s 2ms/step - loss: 0.1791\n",
            "Epoch 166/200\n",
            "1070/1070 [==============================] - 2s 2ms/step - loss: 0.1792\n",
            "Epoch 167/200\n",
            "1070/1070 [==============================] - 2s 2ms/step - loss: 0.1802\n",
            "Epoch 168/200\n",
            "1070/1070 [==============================] - 2s 2ms/step - loss: 0.1796\n",
            "Epoch 169/200\n",
            "1070/1070 [==============================] - 2s 2ms/step - loss: 0.1785\n",
            "Epoch 170/200\n",
            "1070/1070 [==============================] - 2s 2ms/step - loss: 0.1788\n",
            "Epoch 171/200\n",
            "1070/1070 [==============================] - 2s 2ms/step - loss: 0.1781\n",
            "Epoch 172/200\n",
            "1070/1070 [==============================] - 2s 2ms/step - loss: 0.1791\n",
            "Epoch 173/200\n",
            "1070/1070 [==============================] - 2s 2ms/step - loss: 0.1796\n",
            "Epoch 174/200\n",
            "1070/1070 [==============================] - 2s 2ms/step - loss: 0.1782\n",
            "Epoch 175/200\n",
            "1070/1070 [==============================] - 2s 2ms/step - loss: 0.1778\n",
            "Epoch 176/200\n",
            "1070/1070 [==============================] - 2s 2ms/step - loss: 0.1783\n",
            "Epoch 177/200\n",
            "1070/1070 [==============================] - 2s 2ms/step - loss: 0.1782\n",
            "Epoch 178/200\n",
            "1070/1070 [==============================] - 2s 2ms/step - loss: 0.1786\n",
            "Epoch 179/200\n",
            "1070/1070 [==============================] - 2s 2ms/step - loss: 0.1775\n",
            "Epoch 180/200\n",
            "1070/1070 [==============================] - 2s 2ms/step - loss: 0.1780\n",
            "Epoch 181/200\n",
            "1070/1070 [==============================] - 2s 2ms/step - loss: 0.1782\n",
            "Epoch 182/200\n",
            "1070/1070 [==============================] - 2s 2ms/step - loss: 0.1789\n",
            "Epoch 183/200\n",
            "1070/1070 [==============================] - 2s 2ms/step - loss: 0.1770\n",
            "Epoch 184/200\n",
            "1070/1070 [==============================] - 2s 2ms/step - loss: 0.1779\n",
            "Epoch 185/200\n",
            "1070/1070 [==============================] - 2s 2ms/step - loss: 0.1773\n",
            "Epoch 186/200\n",
            "1070/1070 [==============================] - 2s 2ms/step - loss: 0.1789\n",
            "Epoch 187/200\n",
            "1070/1070 [==============================] - 2s 2ms/step - loss: 0.1775\n",
            "Epoch 188/200\n",
            "1070/1070 [==============================] - 2s 2ms/step - loss: 0.1764\n",
            "Epoch 189/200\n",
            "1070/1070 [==============================] - 2s 2ms/step - loss: 0.1777\n",
            "Epoch 190/200\n",
            "1070/1070 [==============================] - 2s 2ms/step - loss: 0.1780\n",
            "Epoch 191/200\n",
            "1070/1070 [==============================] - 2s 2ms/step - loss: 0.1771\n",
            "Epoch 192/200\n",
            "1070/1070 [==============================] - 2s 2ms/step - loss: 0.1771\n",
            "Epoch 193/200\n",
            "1070/1070 [==============================] - 2s 2ms/step - loss: 0.1770\n",
            "Epoch 194/200\n",
            "1070/1070 [==============================] - 2s 2ms/step - loss: 0.1777\n",
            "Epoch 195/200\n",
            "1070/1070 [==============================] - 2s 2ms/step - loss: 0.1775\n",
            "Epoch 196/200\n",
            "1070/1070 [==============================] - 2s 2ms/step - loss: 0.1761\n",
            "Epoch 197/200\n",
            "1070/1070 [==============================] - 2s 2ms/step - loss: 0.1772\n",
            "Epoch 198/200\n",
            "1070/1070 [==============================] - 2s 2ms/step - loss: 0.1768\n",
            "Epoch 199/200\n",
            "1070/1070 [==============================] - 2s 2ms/step - loss: 0.1769\n",
            "Epoch 200/200\n",
            "1070/1070 [==============================] - 2s 2ms/step - loss: 0.1761\n"
          ],
          "name": "stdout"
        }
      ]
    },
    {
      "cell_type": "code",
      "metadata": {
        "colab": {
          "base_uri": "https://localhost:8080/",
          "height": 281
        },
        "id": "qMLgKVT8CPJe",
        "outputId": "c4300611-920f-48e9-f5eb-328940fe8716"
      },
      "source": [
        "plt.plot(trained_model2.history[\"loss\"])"
      ],
      "execution_count": 49,
      "outputs": [
        {
          "output_type": "execute_result",
          "data": {
            "text/plain": [
              "[<matplotlib.lines.Line2D at 0x7fa6a6b67f10>]"
            ]
          },
          "metadata": {
            "tags": []
          },
          "execution_count": 49
        },
        {
          "output_type": "display_data",
          "data": {
            "image/png": "[encoded data removed]",
            "text/plain": [
              "<Figure size 432x288 with 1 Axes>"
            ]
          },
          "metadata": {
            "tags": [],
            "needs_background": "light"
          }
        }
      ]
    },
    {
      "cell_type": "code",
      "metadata": {
        "id": "f2QemrKw7D3h"
      },
      "source": [
        "Y_pred2 = model2.predict(X_test)"
      ],
      "execution_count": 50,
      "outputs": []
    },
    {
      "cell_type": "code",
      "metadata": {
        "colab": {
          "base_uri": "https://localhost:8080/"
        },
        "id": "6xlpIH9x7Y3E",
        "outputId": "cf679666-2ef2-4cf5-8386-4acbab26dc05"
      },
      "source": [
        "from sklearn.metrics import r2_score,mean_squared_error\n",
        "acc2 = (r2_score(Y_test,Y_pred2))\n",
        "print(acc2)"
      ],
      "execution_count": 51,
      "outputs": [
        {
          "output_type": "stream",
          "text": [
            "0.5547241458559133\n"
          ],
          "name": "stdout"
        }
      ]
    },
    {
      "cell_type": "markdown",
      "metadata": {
        "id": "H48tkm-Z9uEe"
      },
      "source": [
        "Model 3"
      ]
    },
    {
      "cell_type": "code",
      "metadata": {
        "id": "9XTyR2Qd9t2X"
      },
      "source": [
        "model3 = Sequential()\n",
        "model3.add(Dense(30, activation=\"relu\", input_dim=10))\n",
        "model3.add(Dense(30, activation=\"relu\"))\n",
        "model3.add(Dense(25, activation=\"relu\"))\n",
        "model3.add(Dense(20, activation=\"relu\"))\n",
        "model3.add(Dense(20, activation=\"relu\"))\n",
        "model3.add(Dense(10, activation=\"relu\"))\n",
        "model3.add(Dense(1))"
      ],
      "execution_count": 52,
      "outputs": []
    },
    {
      "cell_type": "code",
      "metadata": {
        "colab": {
          "base_uri": "https://localhost:8080/"
        },
        "id": "DbFfiidl9txE",
        "outputId": "05631447-bc36-4293-e6a8-fdd40c8fa330"
      },
      "source": [
        "model3.compile(optimizer=\"SGD\", loss=\"mse\")\n",
        "\n",
        "trained_model3 = model3.fit(X_train, Y_train, epochs=200,batch_size=8)"
      ],
      "execution_count": 53,
      "outputs": [
        {
          "output_type": "stream",
          "text": [
            "Epoch 1/200\n",
            "4279/4279 [==============================] - 6s 1ms/step - loss: 0.2871\n",
            "Epoch 2/200\n",
            "4279/4279 [==============================] - 5s 1ms/step - loss: 0.2276\n",
            "Epoch 3/200\n",
            "4279/4279 [==============================] - 5s 1ms/step - loss: 0.2227\n",
            "Epoch 4/200\n",
            "4279/4279 [==============================] - 5s 1ms/step - loss: 0.2202\n",
            "Epoch 5/200\n",
            "4279/4279 [==============================] - 6s 1ms/step - loss: 0.2174\n",
            "Epoch 6/200\n",
            "4279/4279 [==============================] - 6s 1ms/step - loss: 0.2163\n",
            "Epoch 7/200\n",
            "4279/4279 [==============================] - 6s 1ms/step - loss: 0.2145\n",
            "Epoch 8/200\n",
            "4279/4279 [==============================] - 5s 1ms/step - loss: 0.2130\n",
            "Epoch 9/200\n",
            "4279/4279 [==============================] - 5s 1ms/step - loss: 0.2123\n",
            "Epoch 10/200\n",
            "4279/4279 [==============================] - 5s 1ms/step - loss: 0.2110\n",
            "Epoch 11/200\n",
            "4279/4279 [==============================] - 5s 1ms/step - loss: 0.2103\n",
            "Epoch 12/200\n",
            "4279/4279 [==============================] - 5s 1ms/step - loss: 0.2094\n",
            "Epoch 13/200\n",
            "4279/4279 [==============================] - 5s 1ms/step - loss: 0.2086\n",
            "Epoch 14/200\n",
            "4279/4279 [==============================] - 5s 1ms/step - loss: 0.2086\n",
            "Epoch 15/200\n",
            "4279/4279 [==============================] - 5s 1ms/step - loss: 0.2077\n",
            "Epoch 16/200\n",
            "4279/4279 [==============================] - 5s 1ms/step - loss: 0.2071\n",
            "Epoch 17/200\n",
            "4279/4279 [==============================] - 5s 1ms/step - loss: 0.2068\n",
            "Epoch 18/200\n",
            "4279/4279 [==============================] - 5s 1ms/step - loss: 0.2059\n",
            "Epoch 19/200\n",
            "4279/4279 [==============================] - 5s 1ms/step - loss: 0.2057\n",
            "Epoch 20/200\n",
            "4279/4279 [==============================] - 5s 1ms/step - loss: 0.2045\n",
            "Epoch 21/200\n",
            "4279/4279 [==============================] - 5s 1ms/step - loss: 0.2053\n",
            "Epoch 22/200\n",
            "4279/4279 [==============================] - 5s 1ms/step - loss: 0.2045\n",
            "Epoch 23/200\n",
            "4279/4279 [==============================] - 5s 1ms/step - loss: 0.2039\n",
            "Epoch 24/200\n",
            "4279/4279 [==============================] - 5s 1ms/step - loss: 0.2037\n",
            "Epoch 25/200\n",
            "4279/4279 [==============================] - 5s 1ms/step - loss: 0.2034\n",
            "Epoch 26/200\n",
            "4279/4279 [==============================] - 5s 1ms/step - loss: 0.2019\n",
            "Epoch 27/200\n",
            "4279/4279 [==============================] - 5s 1ms/step - loss: 0.2017\n",
            "Epoch 28/200\n",
            "4279/4279 [==============================] - 5s 1ms/step - loss: 0.2021\n",
            "Epoch 29/200\n",
            "4279/4279 [==============================] - 5s 1ms/step - loss: 0.2018\n",
            "Epoch 30/200\n",
            "4279/4279 [==============================] - 5s 1ms/step - loss: 0.2014\n",
            "Epoch 31/200\n",
            "4279/4279 [==============================] - 5s 1ms/step - loss: 0.2010\n",
            "Epoch 32/200\n",
            "4279/4279 [==============================] - 5s 1ms/step - loss: 0.2009\n",
            "Epoch 33/200\n",
            "4279/4279 [==============================] - 5s 1ms/step - loss: 0.2000\n",
            "Epoch 34/200\n",
            "4279/4279 [==============================] - 5s 1ms/step - loss: 0.2008\n",
            "Epoch 35/200\n",
            "4279/4279 [==============================] - 5s 1ms/step - loss: 0.1996\n",
            "Epoch 36/200\n",
            "4279/4279 [==============================] - 5s 1ms/step - loss: 0.1995\n",
            "Epoch 37/200\n",
            "4279/4279 [==============================] - 5s 1ms/step - loss: 0.1989\n",
            "Epoch 38/200\n",
            "4279/4279 [==============================] - 6s 1ms/step - loss: 0.1986\n",
            "Epoch 39/200\n",
            "4279/4279 [==============================] - 6s 1ms/step - loss: 0.1984\n",
            "Epoch 40/200\n",
            "4279/4279 [==============================] - 5s 1ms/step - loss: 0.1982\n",
            "Epoch 41/200\n",
            "4279/4279 [==============================] - 5s 1ms/step - loss: 0.1979\n",
            "Epoch 42/200\n",
            "4279/4279 [==============================] - 5s 1ms/step - loss: 0.1976\n",
            "Epoch 43/200\n",
            "4279/4279 [==============================] - 5s 1ms/step - loss: 0.1975\n",
            "Epoch 44/200\n",
            "4279/4279 [==============================] - 5s 1ms/step - loss: 0.1971\n",
            "Epoch 45/200\n",
            "4279/4279 [==============================] - 5s 1ms/step - loss: 0.1972\n",
            "Epoch 46/200\n",
            "4279/4279 [==============================] - 5s 1ms/step - loss: 0.1967\n",
            "Epoch 47/200\n",
            "4279/4279 [==============================] - 5s 1ms/step - loss: 0.1967\n",
            "Epoch 48/200\n",
            "4279/4279 [==============================] - 5s 1ms/step - loss: 0.1961\n",
            "Epoch 49/200\n",
            "4279/4279 [==============================] - 5s 1ms/step - loss: 0.1959\n",
            "Epoch 50/200\n",
            "4279/4279 [==============================] - 5s 1ms/step - loss: 0.1956\n",
            "Epoch 51/200\n",
            "4279/4279 [==============================] - 5s 1ms/step - loss: 0.1956\n",
            "Epoch 52/200\n",
            "4279/4279 [==============================] - 5s 1ms/step - loss: 0.1956\n",
            "Epoch 53/200\n",
            "4279/4279 [==============================] - 6s 1ms/step - loss: 0.1958\n",
            "Epoch 54/200\n",
            "4279/4279 [==============================] - 5s 1ms/step - loss: 0.1955\n",
            "Epoch 55/200\n",
            "4279/4279 [==============================] - 6s 1ms/step - loss: 0.1952\n",
            "Epoch 56/200\n",
            "4279/4279 [==============================] - 5s 1ms/step - loss: 0.1947\n",
            "Epoch 57/200\n",
            "4279/4279 [==============================] - 5s 1ms/step - loss: 0.1944\n",
            "Epoch 58/200\n",
            "4279/4279 [==============================] - 5s 1ms/step - loss: 0.1941\n",
            "Epoch 59/200\n",
            "4279/4279 [==============================] - 5s 1ms/step - loss: 0.1947\n",
            "Epoch 60/200\n",
            "4279/4279 [==============================] - 5s 1ms/step - loss: 0.1939\n",
            "Epoch 61/200\n",
            "4279/4279 [==============================] - 5s 1ms/step - loss: 0.1935\n",
            "Epoch 62/200\n",
            "4279/4279 [==============================] - 6s 1ms/step - loss: 0.1935\n",
            "Epoch 63/200\n",
            "4279/4279 [==============================] - 5s 1ms/step - loss: 0.1937\n",
            "Epoch 64/200\n",
            "4279/4279 [==============================] - 5s 1ms/step - loss: 0.1933\n",
            "Epoch 65/200\n",
            "4279/4279 [==============================] - 5s 1ms/step - loss: 0.1934\n",
            "Epoch 66/200\n",
            "4279/4279 [==============================] - 5s 1ms/step - loss: 0.1929\n",
            "Epoch 67/200\n",
            "4279/4279 [==============================] - 5s 1ms/step - loss: 0.1930\n",
            "Epoch 68/200\n",
            "4279/4279 [==============================] - 5s 1ms/step - loss: 0.1928\n",
            "Epoch 69/200\n",
            "4279/4279 [==============================] - 5s 1ms/step - loss: 0.1928\n",
            "Epoch 70/200\n",
            "4279/4279 [==============================] - 5s 1ms/step - loss: 0.1923\n",
            "Epoch 71/200\n",
            "4279/4279 [==============================] - 5s 1ms/step - loss: 0.1923\n",
            "Epoch 72/200\n",
            "4279/4279 [==============================] - 5s 1ms/step - loss: 0.1915\n",
            "Epoch 73/200\n",
            "4279/4279 [==============================] - 5s 1ms/step - loss: 0.1919\n",
            "Epoch 74/200\n",
            "4279/4279 [==============================] - 5s 1ms/step - loss: 0.1914\n",
            "Epoch 75/200\n",
            "4279/4279 [==============================] - 5s 1ms/step - loss: 0.1915\n",
            "Epoch 76/200\n",
            "4279/4279 [==============================] - 5s 1ms/step - loss: 0.1911\n",
            "Epoch 77/200\n",
            "4279/4279 [==============================] - 5s 1ms/step - loss: 0.1914\n",
            "Epoch 78/200\n",
            "4279/4279 [==============================] - 5s 1ms/step - loss: 0.1911\n",
            "Epoch 79/200\n",
            "4279/4279 [==============================] - 5s 1ms/step - loss: 0.1910\n",
            "Epoch 80/200\n",
            "4279/4279 [==============================] - 5s 1ms/step - loss: 0.1910\n",
            "Epoch 81/200\n",
            "4279/4279 [==============================] - 6s 1ms/step - loss: 0.1909\n",
            "Epoch 82/200\n",
            "4279/4279 [==============================] - 6s 1ms/step - loss: 0.1903\n",
            "Epoch 83/200\n",
            "4279/4279 [==============================] - 6s 1ms/step - loss: 0.1903\n",
            "Epoch 84/200\n",
            "4279/4279 [==============================] - 6s 1ms/step - loss: 0.1901\n",
            "Epoch 85/200\n",
            "4279/4279 [==============================] - 5s 1ms/step - loss: 0.1901\n",
            "Epoch 86/200\n",
            "4279/4279 [==============================] - 6s 1ms/step - loss: 0.1899\n",
            "Epoch 87/200\n",
            "4279/4279 [==============================] - 5s 1ms/step - loss: 0.1893\n",
            "Epoch 88/200\n",
            "4279/4279 [==============================] - 5s 1ms/step - loss: 0.1896\n",
            "Epoch 89/200\n",
            "4279/4279 [==============================] - 5s 1ms/step - loss: 0.1896\n",
            "Epoch 90/200\n",
            "4279/4279 [==============================] - 5s 1ms/step - loss: 0.1889\n",
            "Epoch 91/200\n",
            "4279/4279 [==============================] - 6s 1ms/step - loss: 0.1889\n",
            "Epoch 92/200\n",
            "4279/4279 [==============================] - 6s 1ms/step - loss: 0.1884\n",
            "Epoch 93/200\n",
            "4279/4279 [==============================] - 6s 1ms/step - loss: 0.1891\n",
            "Epoch 94/200\n",
            "4279/4279 [==============================] - 6s 1ms/step - loss: 0.1890\n",
            "Epoch 95/200\n",
            "4279/4279 [==============================] - 5s 1ms/step - loss: 0.1888\n",
            "Epoch 96/200\n",
            "4279/4279 [==============================] - 5s 1ms/step - loss: 0.1880\n",
            "Epoch 97/200\n",
            "4279/4279 [==============================] - 5s 1ms/step - loss: 0.1884\n",
            "Epoch 98/200\n",
            "4279/4279 [==============================] - 5s 1ms/step - loss: 0.1882\n",
            "Epoch 99/200\n",
            "4279/4279 [==============================] - 5s 1ms/step - loss: 0.1881\n",
            "Epoch 100/200\n",
            "4279/4279 [==============================] - 5s 1ms/step - loss: 0.1875\n",
            "Epoch 101/200\n",
            "4279/4279 [==============================] - 5s 1ms/step - loss: 0.1878\n",
            "Epoch 102/200\n",
            "4279/4279 [==============================] - 6s 1ms/step - loss: 0.1884\n",
            "Epoch 103/200\n",
            "4279/4279 [==============================] - 6s 1ms/step - loss: 0.1885\n",
            "Epoch 104/200\n",
            "4279/4279 [==============================] - 6s 1ms/step - loss: 0.1880\n",
            "Epoch 105/200\n",
            "4279/4279 [==============================] - 6s 1ms/step - loss: 0.1873\n",
            "Epoch 106/200\n",
            "4279/4279 [==============================] - 6s 1ms/step - loss: 0.1878\n",
            "Epoch 107/200\n",
            "4279/4279 [==============================] - 6s 1ms/step - loss: 0.1878\n",
            "Epoch 108/200\n",
            "4279/4279 [==============================] - 6s 1ms/step - loss: 0.1875\n",
            "Epoch 109/200\n",
            "4279/4279 [==============================] - 6s 1ms/step - loss: 0.1872\n",
            "Epoch 110/200\n",
            "4279/4279 [==============================] - 6s 1ms/step - loss: 0.1870\n",
            "Epoch 111/200\n",
            "4279/4279 [==============================] - 6s 1ms/step - loss: 0.1868\n",
            "Epoch 112/200\n",
            "4279/4279 [==============================] - 6s 1ms/step - loss: 0.1866\n",
            "Epoch 113/200\n",
            "4279/4279 [==============================] - 5s 1ms/step - loss: 0.1869\n",
            "Epoch 114/200\n",
            "4279/4279 [==============================] - 5s 1ms/step - loss: 0.1866\n",
            "Epoch 115/200\n",
            "4279/4279 [==============================] - 5s 1ms/step - loss: 0.1867\n",
            "Epoch 116/200\n",
            "4279/4279 [==============================] - 5s 1ms/step - loss: 0.1866\n",
            "Epoch 117/200\n",
            "4279/4279 [==============================] - 5s 1ms/step - loss: 0.1860\n",
            "Epoch 118/200\n",
            "4279/4279 [==============================] - 5s 1ms/step - loss: 0.1863\n",
            "Epoch 119/200\n",
            "4279/4279 [==============================] - 5s 1ms/step - loss: 0.1859\n",
            "Epoch 120/200\n",
            "4279/4279 [==============================] - 6s 1ms/step - loss: 0.1859\n",
            "Epoch 121/200\n",
            "4279/4279 [==============================] - 6s 1ms/step - loss: 0.1862\n",
            "Epoch 122/200\n",
            "4279/4279 [==============================] - 5s 1ms/step - loss: 0.1862\n",
            "Epoch 123/200\n",
            "4279/4279 [==============================] - 5s 1ms/step - loss: 0.1858\n",
            "Epoch 124/200\n",
            "4279/4279 [==============================] - 6s 1ms/step - loss: 0.1855\n",
            "Epoch 125/200\n",
            "4279/4279 [==============================] - 5s 1ms/step - loss: 0.1856\n",
            "Epoch 126/200\n",
            "4279/4279 [==============================] - 6s 1ms/step - loss: 0.1858\n",
            "Epoch 127/200\n",
            "4279/4279 [==============================] - 5s 1ms/step - loss: 0.1857\n",
            "Epoch 128/200\n",
            "4279/4279 [==============================] - 6s 1ms/step - loss: 0.1848\n",
            "Epoch 129/200\n",
            "4279/4279 [==============================] - 5s 1ms/step - loss: 0.1849\n",
            "Epoch 130/200\n",
            "4279/4279 [==============================] - 5s 1ms/step - loss: 0.1849\n",
            "Epoch 131/200\n",
            "4279/4279 [==============================] - 6s 1ms/step - loss: 0.1850\n",
            "Epoch 132/200\n",
            "4279/4279 [==============================] - 6s 1ms/step - loss: 0.1845\n",
            "Epoch 133/200\n",
            "4279/4279 [==============================] - 6s 1ms/step - loss: 0.1846\n",
            "Epoch 134/200\n",
            "4279/4279 [==============================] - 6s 1ms/step - loss: 0.1846\n",
            "Epoch 135/200\n",
            "4279/4279 [==============================] - 6s 1ms/step - loss: 0.1845\n",
            "Epoch 136/200\n",
            "4279/4279 [==============================] - 6s 1ms/step - loss: 0.1841\n",
            "Epoch 137/200\n",
            "4279/4279 [==============================] - 6s 1ms/step - loss: 0.1843\n",
            "Epoch 138/200\n",
            "4279/4279 [==============================] - 6s 1ms/step - loss: 0.1844\n",
            "Epoch 139/200\n",
            "4279/4279 [==============================] - 5s 1ms/step - loss: 0.1843\n",
            "Epoch 140/200\n",
            "4279/4279 [==============================] - 6s 1ms/step - loss: 0.1838\n",
            "Epoch 141/200\n",
            "4279/4279 [==============================] - 5s 1ms/step - loss: 0.1841\n",
            "Epoch 142/200\n",
            "4279/4279 [==============================] - 5s 1ms/step - loss: 0.1840\n",
            "Epoch 143/200\n",
            "4279/4279 [==============================] - 6s 1ms/step - loss: 0.1837\n",
            "Epoch 144/200\n",
            "4279/4279 [==============================] - 5s 1ms/step - loss: 0.1837\n",
            "Epoch 145/200\n",
            "4279/4279 [==============================] - 5s 1ms/step - loss: 0.1837\n",
            "Epoch 146/200\n",
            "4279/4279 [==============================] - 6s 1ms/step - loss: 0.1831\n",
            "Epoch 147/200\n",
            "4279/4279 [==============================] - 6s 1ms/step - loss: 0.1837\n",
            "Epoch 148/200\n",
            "4279/4279 [==============================] - 6s 1ms/step - loss: 0.1830\n",
            "Epoch 149/200\n",
            "4279/4279 [==============================] - 6s 1ms/step - loss: 0.1826\n",
            "Epoch 150/200\n",
            "4279/4279 [==============================] - 6s 1ms/step - loss: 0.1828\n",
            "Epoch 151/200\n",
            "4279/4279 [==============================] - 6s 1ms/step - loss: 0.1826\n",
            "Epoch 152/200\n",
            "4279/4279 [==============================] - 5s 1ms/step - loss: 0.1829\n",
            "Epoch 153/200\n",
            "4279/4279 [==============================] - 5s 1ms/step - loss: 0.1824\n",
            "Epoch 154/200\n",
            "4279/4279 [==============================] - 5s 1ms/step - loss: 0.1828\n",
            "Epoch 155/200\n",
            "4279/4279 [==============================] - 5s 1ms/step - loss: 0.1832\n",
            "Epoch 156/200\n",
            "4279/4279 [==============================] - 6s 1ms/step - loss: 0.1829\n",
            "Epoch 157/200\n",
            "4279/4279 [==============================] - 5s 1ms/step - loss: 0.1826\n",
            "Epoch 158/200\n",
            "4279/4279 [==============================] - 6s 1ms/step - loss: 0.1819\n",
            "Epoch 159/200\n",
            "4279/4279 [==============================] - 6s 1ms/step - loss: 0.1831\n",
            "Epoch 160/200\n",
            "4279/4279 [==============================] - 6s 1ms/step - loss: 0.1820\n",
            "Epoch 161/200\n",
            "4279/4279 [==============================] - 6s 1ms/step - loss: 0.1821\n",
            "Epoch 162/200\n",
            "4279/4279 [==============================] - 6s 1ms/step - loss: 0.1816\n",
            "Epoch 163/200\n",
            "4279/4279 [==============================] - 6s 1ms/step - loss: 0.1820\n",
            "Epoch 164/200\n",
            "4279/4279 [==============================] - 6s 1ms/step - loss: 0.1820\n",
            "Epoch 165/200\n",
            "4279/4279 [==============================] - 6s 1ms/step - loss: 0.1819\n",
            "Epoch 166/200\n",
            "4279/4279 [==============================] - 6s 1ms/step - loss: 0.1819\n",
            "Epoch 167/200\n",
            "4279/4279 [==============================] - 6s 1ms/step - loss: 0.1814\n",
            "Epoch 168/200\n",
            "4279/4279 [==============================] - 6s 1ms/step - loss: 0.1818\n",
            "Epoch 169/200\n",
            "4279/4279 [==============================] - 6s 1ms/step - loss: 0.1812\n",
            "Epoch 170/200\n",
            "4279/4279 [==============================] - 6s 1ms/step - loss: 0.1813\n",
            "Epoch 171/200\n",
            "4279/4279 [==============================] - 6s 1ms/step - loss: 0.1817\n",
            "Epoch 172/200\n",
            "4279/4279 [==============================] - 6s 1ms/step - loss: 0.1816\n",
            "Epoch 173/200\n",
            "4279/4279 [==============================] - 6s 1ms/step - loss: 0.1810\n",
            "Epoch 174/200\n",
            "4279/4279 [==============================] - 6s 1ms/step - loss: 0.1815\n",
            "Epoch 175/200\n",
            "4279/4279 [==============================] - 6s 1ms/step - loss: 0.1811\n",
            "Epoch 176/200\n",
            "4279/4279 [==============================] - 6s 1ms/step - loss: 0.1811\n",
            "Epoch 177/200\n",
            "4279/4279 [==============================] - 6s 1ms/step - loss: 0.1807\n",
            "Epoch 178/200\n",
            "4279/4279 [==============================] - 6s 1ms/step - loss: 0.1816\n",
            "Epoch 179/200\n",
            "4279/4279 [==============================] - 6s 1ms/step - loss: 0.1806\n",
            "Epoch 180/200\n",
            "4279/4279 [==============================] - 6s 1ms/step - loss: 0.1805\n",
            "Epoch 181/200\n",
            "4279/4279 [==============================] - 6s 1ms/step - loss: 0.1809\n",
            "Epoch 182/200\n",
            "4279/4279 [==============================] - 6s 1ms/step - loss: 0.1802\n",
            "Epoch 183/200\n",
            "4279/4279 [==============================] - 6s 1ms/step - loss: 0.1813\n",
            "Epoch 184/200\n",
            "4279/4279 [==============================] - 6s 1ms/step - loss: 0.1809\n",
            "Epoch 185/200\n",
            "4279/4279 [==============================] - 6s 1ms/step - loss: 0.1800\n",
            "Epoch 186/200\n",
            "4279/4279 [==============================] - 6s 1ms/step - loss: 0.1799\n",
            "Epoch 187/200\n",
            "4279/4279 [==============================] - 6s 1ms/step - loss: 0.1801\n",
            "Epoch 188/200\n",
            "4279/4279 [==============================] - 6s 1ms/step - loss: 0.1799\n",
            "Epoch 189/200\n",
            "4279/4279 [==============================] - 6s 1ms/step - loss: 0.1805\n",
            "Epoch 190/200\n",
            "4279/4279 [==============================] - 6s 1ms/step - loss: 0.1802\n",
            "Epoch 191/200\n",
            "4279/4279 [==============================] - 6s 1ms/step - loss: 0.1798\n",
            "Epoch 192/200\n",
            "4279/4279 [==============================] - 6s 1ms/step - loss: 0.1799\n",
            "Epoch 193/200\n",
            "4279/4279 [==============================] - 6s 1ms/step - loss: 0.1796\n",
            "Epoch 194/200\n",
            "4279/4279 [==============================] - 6s 1ms/step - loss: 0.1797\n",
            "Epoch 195/200\n",
            "4279/4279 [==============================] - 6s 1ms/step - loss: 0.1799\n",
            "Epoch 196/200\n",
            "4279/4279 [==============================] - 6s 1ms/step - loss: 0.1797\n",
            "Epoch 197/200\n",
            "4279/4279 [==============================] - 6s 1ms/step - loss: 0.1805\n",
            "Epoch 198/200\n",
            "4279/4279 [==============================] - 6s 1ms/step - loss: 0.1793\n",
            "Epoch 199/200\n",
            "4279/4279 [==============================] - 6s 1ms/step - loss: 0.1799\n",
            "Epoch 200/200\n",
            "4279/4279 [==============================] - 6s 1ms/step - loss: 0.1791\n"
          ],
          "name": "stdout"
        }
      ]
    },
    {
      "cell_type": "code",
      "metadata": {
        "colab": {
          "base_uri": "https://localhost:8080/",
          "height": 281
        },
        "id": "JZaBk915CRx8",
        "outputId": "f97599d2-bfdf-4aed-d47b-c4f8c0540a19"
      },
      "source": [
        "plt.plot(trained_model3.history[\"loss\"])"
      ],
      "execution_count": 54,
      "outputs": [
        {
          "output_type": "execute_result",
          "data": {
            "text/plain": [
              "[<matplotlib.lines.Line2D at 0x7fa6a59b5090>]"
            ]
          },
          "metadata": {
            "tags": []
          },
          "execution_count": 54
        },
        {
          "output_type": "display_data",
          "data": {
            "image/png": "[encoded data removed]",
            "text/plain": [
              "<Figure size 432x288 with 1 Axes>"
            ]
          },
          "metadata": {
            "tags": [],
            "needs_background": "light"
          }
        }
      ]
    },
    {
      "cell_type": "code",
      "metadata": {
        "id": "s9mP_5Jf9tjr"
      },
      "source": [
        "Y_pred3 = model3.predict(X_test)"
      ],
      "execution_count": 55,
      "outputs": []
    },
    {
      "cell_type": "code",
      "metadata": {
        "colab": {
          "base_uri": "https://localhost:8080/"
        },
        "id": "jMIQUeDM-HO0",
        "outputId": "541981c7-da7f-4803-eb96-1febb53b6bf9"
      },
      "source": [
        "acc3 = (r2_score(Y_test,Y_pred3))\n",
        "print(acc3)"
      ],
      "execution_count": 56,
      "outputs": [
        {
          "output_type": "stream",
          "text": [
            "0.561681010236416\n"
          ],
          "name": "stdout"
        }
      ]
    },
    {
      "cell_type": "markdown",
      "metadata": {
        "id": "p-G5AqJUeRNs"
      },
      "source": [
        "Model 4"
      ]
    },
    {
      "cell_type": "code",
      "metadata": {
        "id": "JrmCyruYeQ47"
      },
      "source": [
        "model4 = Sequential()\n",
        "model4.add(Dense(50, activation=\"relu\", input_dim=10))\n",
        "model4.add(Dense(45, activation=\"relu\"))\n",
        "model4.add(Dense(35, activation=\"relu\"))\n",
        "model4.add(Dense(30, activation=\"relu\"))\n",
        "model4.add(Dense(20, activation=\"relu\"))\n",
        "model4.add(Dense(15, activation=\"relu\"))\n",
        "model4.add(Dense(1))"
      ],
      "execution_count": 74,
      "outputs": []
    },
    {
      "cell_type": "code",
      "metadata": {
        "colab": {
          "base_uri": "https://localhost:8080/"
        },
        "id": "ko3msckmeeJv",
        "outputId": "311b7688-39ce-4cfa-9155-ae03c285997c"
      },
      "source": [
        "model4.compile(optimizer=\"adam\", loss=\"mse\")\n",
        "\n",
        "trained_model4 = model4.fit(X_train, Y_train, epochs=200,batch_size=16)"
      ],
      "execution_count": 75,
      "outputs": [
        {
          "output_type": "stream",
          "text": [
            "Epoch 1/200\n",
            "2140/2140 [==============================] - 5s 2ms/step - loss: 0.5666\n",
            "Epoch 2/200\n",
            "2140/2140 [==============================] - 4s 2ms/step - loss: 0.2297\n",
            "Epoch 3/200\n",
            "2140/2140 [==============================] - 4s 2ms/step - loss: 0.2229\n",
            "Epoch 4/200\n",
            "2140/2140 [==============================] - 4s 2ms/step - loss: 0.2189\n",
            "Epoch 5/200\n",
            "2140/2140 [==============================] - 4s 2ms/step - loss: 0.2160\n",
            "Epoch 6/200\n",
            "2140/2140 [==============================] - 4s 2ms/step - loss: 0.2140\n",
            "Epoch 7/200\n",
            "2140/2140 [==============================] - 4s 2ms/step - loss: 0.2122\n",
            "Epoch 8/200\n",
            "2140/2140 [==============================] - 4s 2ms/step - loss: 0.2102\n",
            "Epoch 9/200\n",
            "2140/2140 [==============================] - 4s 2ms/step - loss: 0.2085\n",
            "Epoch 10/200\n",
            "2140/2140 [==============================] - 4s 2ms/step - loss: 0.2073\n",
            "Epoch 11/200\n",
            "2140/2140 [==============================] - 5s 2ms/step - loss: 0.2053\n",
            "Epoch 12/200\n",
            "2140/2140 [==============================] - 4s 2ms/step - loss: 0.2045\n",
            "Epoch 13/200\n",
            "2140/2140 [==============================] - 4s 2ms/step - loss: 0.2045\n",
            "Epoch 14/200\n",
            "2140/2140 [==============================] - 5s 2ms/step - loss: 0.2035\n",
            "Epoch 15/200\n",
            "2140/2140 [==============================] - 4s 2ms/step - loss: 0.2025\n",
            "Epoch 16/200\n",
            "2140/2140 [==============================] - 4s 2ms/step - loss: 0.2017\n",
            "Epoch 17/200\n",
            "2140/2140 [==============================] - 4s 2ms/step - loss: 0.2021\n",
            "Epoch 18/200\n",
            "2140/2140 [==============================] - 4s 2ms/step - loss: 0.2005\n",
            "Epoch 19/200\n",
            "2140/2140 [==============================] - 4s 2ms/step - loss: 0.1997\n",
            "Epoch 20/200\n",
            "2140/2140 [==============================] - 4s 2ms/step - loss: 0.1991\n",
            "Epoch 21/200\n",
            "2140/2140 [==============================] - 4s 2ms/step - loss: 0.1983\n",
            "Epoch 22/200\n",
            "2140/2140 [==============================] - 4s 2ms/step - loss: 0.1976\n",
            "Epoch 23/200\n",
            "2140/2140 [==============================] - 4s 2ms/step - loss: 0.1979\n",
            "Epoch 24/200\n",
            "2140/2140 [==============================] - 4s 2ms/step - loss: 0.1967\n",
            "Epoch 25/200\n",
            "2140/2140 [==============================] - 4s 2ms/step - loss: 0.1957\n",
            "Epoch 26/200\n",
            "2140/2140 [==============================] - 4s 2ms/step - loss: 0.1970\n",
            "Epoch 27/200\n",
            "2140/2140 [==============================] - 4s 2ms/step - loss: 0.1953\n",
            "Epoch 28/200\n",
            "2140/2140 [==============================] - 4s 2ms/step - loss: 0.1940\n",
            "Epoch 29/200\n",
            "2140/2140 [==============================] - 4s 2ms/step - loss: 0.1944\n",
            "Epoch 30/200\n",
            "2140/2140 [==============================] - 4s 2ms/step - loss: 0.1942\n",
            "Epoch 31/200\n",
            "2140/2140 [==============================] - 4s 2ms/step - loss: 0.1939\n",
            "Epoch 32/200\n",
            "2140/2140 [==============================] - 4s 2ms/step - loss: 0.1930\n",
            "Epoch 33/200\n",
            "2140/2140 [==============================] - 4s 2ms/step - loss: 0.1925\n",
            "Epoch 34/200\n",
            "2140/2140 [==============================] - 4s 2ms/step - loss: 0.1918\n",
            "Epoch 35/200\n",
            "2140/2140 [==============================] - 4s 2ms/step - loss: 0.1920\n",
            "Epoch 36/200\n",
            "2140/2140 [==============================] - 4s 2ms/step - loss: 0.1915\n",
            "Epoch 37/200\n",
            "2140/2140 [==============================] - 4s 2ms/step - loss: 0.1907\n",
            "Epoch 38/200\n",
            "2140/2140 [==============================] - 4s 2ms/step - loss: 0.1907\n",
            "Epoch 39/200\n",
            "2140/2140 [==============================] - 4s 2ms/step - loss: 0.1901\n",
            "Epoch 40/200\n",
            "2140/2140 [==============================] - 4s 2ms/step - loss: 0.1897\n",
            "Epoch 41/200\n",
            "2140/2140 [==============================] - 4s 2ms/step - loss: 0.1891\n",
            "Epoch 42/200\n",
            "2140/2140 [==============================] - 4s 2ms/step - loss: 0.1893\n",
            "Epoch 43/200\n",
            "2140/2140 [==============================] - 4s 2ms/step - loss: 0.1884\n",
            "Epoch 44/200\n",
            "2140/2140 [==============================] - 4s 2ms/step - loss: 0.1887\n",
            "Epoch 45/200\n",
            "2140/2140 [==============================] - 4s 2ms/step - loss: 0.1874\n",
            "Epoch 46/200\n",
            "2140/2140 [==============================] - 4s 2ms/step - loss: 0.1874\n",
            "Epoch 47/200\n",
            "2140/2140 [==============================] - 4s 2ms/step - loss: 0.1872\n",
            "Epoch 48/200\n",
            "2140/2140 [==============================] - 4s 2ms/step - loss: 0.1873\n",
            "Epoch 49/200\n",
            "2140/2140 [==============================] - 4s 2ms/step - loss: 0.1864\n",
            "Epoch 50/200\n",
            "2140/2140 [==============================] - 4s 2ms/step - loss: 0.1861\n",
            "Epoch 51/200\n",
            "2140/2140 [==============================] - 4s 2ms/step - loss: 0.1856\n",
            "Epoch 52/200\n",
            "2140/2140 [==============================] - 4s 2ms/step - loss: 0.1854\n",
            "Epoch 53/200\n",
            "2140/2140 [==============================] - 4s 2ms/step - loss: 0.1851\n",
            "Epoch 54/200\n",
            "2140/2140 [==============================] - 4s 2ms/step - loss: 0.1847\n",
            "Epoch 55/200\n",
            "2140/2140 [==============================] - 4s 2ms/step - loss: 0.1845\n",
            "Epoch 56/200\n",
            "2140/2140 [==============================] - 5s 2ms/step - loss: 0.1840\n",
            "Epoch 57/200\n",
            "2140/2140 [==============================] - 4s 2ms/step - loss: 0.1848\n",
            "Epoch 58/200\n",
            "2140/2140 [==============================] - 5s 2ms/step - loss: 0.1841\n",
            "Epoch 59/200\n",
            "2140/2140 [==============================] - 5s 2ms/step - loss: 0.1834\n",
            "Epoch 60/200\n",
            "2140/2140 [==============================] - 5s 2ms/step - loss: 0.1830\n",
            "Epoch 61/200\n",
            "2140/2140 [==============================] - 5s 2ms/step - loss: 0.1832\n",
            "Epoch 62/200\n",
            "2140/2140 [==============================] - 4s 2ms/step - loss: 0.1825\n",
            "Epoch 63/200\n",
            "2140/2140 [==============================] - 4s 2ms/step - loss: 0.1815\n",
            "Epoch 64/200\n",
            "2140/2140 [==============================] - 5s 2ms/step - loss: 0.1821\n",
            "Epoch 65/200\n",
            "2140/2140 [==============================] - 4s 2ms/step - loss: 0.1818\n",
            "Epoch 66/200\n",
            "2140/2140 [==============================] - 4s 2ms/step - loss: 0.1821\n",
            "Epoch 67/200\n",
            "2140/2140 [==============================] - 4s 2ms/step - loss: 0.1809\n",
            "Epoch 68/200\n",
            "2140/2140 [==============================] - 4s 2ms/step - loss: 0.1821\n",
            "Epoch 69/200\n",
            "2140/2140 [==============================] - 4s 2ms/step - loss: 0.1806\n",
            "Epoch 70/200\n",
            "2140/2140 [==============================] - 4s 2ms/step - loss: 0.1805\n",
            "Epoch 71/200\n",
            "2140/2140 [==============================] - 4s 2ms/step - loss: 0.1804\n",
            "Epoch 72/200\n",
            "2140/2140 [==============================] - 4s 2ms/step - loss: 0.1806\n",
            "Epoch 73/200\n",
            "2140/2140 [==============================] - 4s 2ms/step - loss: 0.1798\n",
            "Epoch 74/200\n",
            "2140/2140 [==============================] - 4s 2ms/step - loss: 0.1796\n",
            "Epoch 75/200\n",
            "2140/2140 [==============================] - 4s 2ms/step - loss: 0.1801\n",
            "Epoch 76/200\n",
            "2140/2140 [==============================] - 5s 2ms/step - loss: 0.1787\n",
            "Epoch 77/200\n",
            "2140/2140 [==============================] - 4s 2ms/step - loss: 0.1793\n",
            "Epoch 78/200\n",
            "2140/2140 [==============================] - 4s 2ms/step - loss: 0.1791\n",
            "Epoch 79/200\n",
            "2140/2140 [==============================] - 4s 2ms/step - loss: 0.1784\n",
            "Epoch 80/200\n",
            "2140/2140 [==============================] - 4s 2ms/step - loss: 0.1780\n",
            "Epoch 81/200\n",
            "2140/2140 [==============================] - 4s 2ms/step - loss: 0.1789\n",
            "Epoch 82/200\n",
            "2140/2140 [==============================] - 4s 2ms/step - loss: 0.1781\n",
            "Epoch 83/200\n",
            "2140/2140 [==============================] - 4s 2ms/step - loss: 0.1771\n",
            "Epoch 84/200\n",
            "2140/2140 [==============================] - 4s 2ms/step - loss: 0.1778\n",
            "Epoch 85/200\n",
            "2140/2140 [==============================] - 4s 2ms/step - loss: 0.1774\n",
            "Epoch 86/200\n",
            "2140/2140 [==============================] - 4s 2ms/step - loss: 0.1773\n",
            "Epoch 87/200\n",
            "2140/2140 [==============================] - 4s 2ms/step - loss: 0.1770\n",
            "Epoch 88/200\n",
            "2140/2140 [==============================] - 4s 2ms/step - loss: 0.1768\n",
            "Epoch 89/200\n",
            "2140/2140 [==============================] - 4s 2ms/step - loss: 0.1775\n",
            "Epoch 90/200\n",
            "2140/2140 [==============================] - 4s 2ms/step - loss: 0.1761\n",
            "Epoch 91/200\n",
            "2140/2140 [==============================] - 4s 2ms/step - loss: 0.1761\n",
            "Epoch 92/200\n",
            "2140/2140 [==============================] - 4s 2ms/step - loss: 0.1759\n",
            "Epoch 93/200\n",
            "2140/2140 [==============================] - 4s 2ms/step - loss: 0.1760\n",
            "Epoch 94/200\n",
            "2140/2140 [==============================] - 4s 2ms/step - loss: 0.1758\n",
            "Epoch 95/200\n",
            "2140/2140 [==============================] - 4s 2ms/step - loss: 0.1745\n",
            "Epoch 96/200\n",
            "2140/2140 [==============================] - 5s 2ms/step - loss: 0.1760\n",
            "Epoch 97/200\n",
            "2140/2140 [==============================] - 5s 2ms/step - loss: 0.1754\n",
            "Epoch 98/200\n",
            "2140/2140 [==============================] - 5s 2ms/step - loss: 0.1749\n",
            "Epoch 99/200\n",
            "2140/2140 [==============================] - 4s 2ms/step - loss: 0.1755\n",
            "Epoch 100/200\n",
            "2140/2140 [==============================] - 4s 2ms/step - loss: 0.1745\n",
            "Epoch 101/200\n",
            "2140/2140 [==============================] - 4s 2ms/step - loss: 0.1745\n",
            "Epoch 102/200\n",
            "2140/2140 [==============================] - 4s 2ms/step - loss: 0.1744\n",
            "Epoch 103/200\n",
            "2140/2140 [==============================] - 4s 2ms/step - loss: 0.1743\n",
            "Epoch 104/200\n",
            "2140/2140 [==============================] - 4s 2ms/step - loss: 0.1730\n",
            "Epoch 105/200\n",
            "2140/2140 [==============================] - 4s 2ms/step - loss: 0.1739\n",
            "Epoch 106/200\n",
            "2140/2140 [==============================] - 4s 2ms/step - loss: 0.1734\n",
            "Epoch 107/200\n",
            "2140/2140 [==============================] - 4s 2ms/step - loss: 0.1734\n",
            "Epoch 108/200\n",
            "2140/2140 [==============================] - 4s 2ms/step - loss: 0.1729\n",
            "Epoch 109/200\n",
            "2140/2140 [==============================] - 4s 2ms/step - loss: 0.1729\n",
            "Epoch 110/200\n",
            "2140/2140 [==============================] - 4s 2ms/step - loss: 0.1732\n",
            "Epoch 111/200\n",
            "2140/2140 [==============================] - 4s 2ms/step - loss: 0.1723\n",
            "Epoch 112/200\n",
            "2140/2140 [==============================] - 4s 2ms/step - loss: 0.1726\n",
            "Epoch 113/200\n",
            "2140/2140 [==============================] - 4s 2ms/step - loss: 0.1736\n",
            "Epoch 114/200\n",
            "2140/2140 [==============================] - 4s 2ms/step - loss: 0.1727\n",
            "Epoch 115/200\n",
            "2140/2140 [==============================] - 4s 2ms/step - loss: 0.1725\n",
            "Epoch 116/200\n",
            "2140/2140 [==============================] - 4s 2ms/step - loss: 0.1718\n",
            "Epoch 117/200\n",
            "2140/2140 [==============================] - 4s 2ms/step - loss: 0.1725\n",
            "Epoch 118/200\n",
            "2140/2140 [==============================] - 4s 2ms/step - loss: 0.1717\n",
            "Epoch 119/200\n",
            "2140/2140 [==============================] - 4s 2ms/step - loss: 0.1713\n",
            "Epoch 120/200\n",
            "2140/2140 [==============================] - 4s 2ms/step - loss: 0.1713\n",
            "Epoch 121/200\n",
            "2140/2140 [==============================] - 4s 2ms/step - loss: 0.1719\n",
            "Epoch 122/200\n",
            "2140/2140 [==============================] - 4s 2ms/step - loss: 0.1709\n",
            "Epoch 123/200\n",
            "2140/2140 [==============================] - 4s 2ms/step - loss: 0.1711\n",
            "Epoch 124/200\n",
            "2140/2140 [==============================] - 4s 2ms/step - loss: 0.1715\n",
            "Epoch 125/200\n",
            "2140/2140 [==============================] - 4s 2ms/step - loss: 0.1708\n",
            "Epoch 126/200\n",
            "2140/2140 [==============================] - 4s 2ms/step - loss: 0.1708\n",
            "Epoch 127/200\n",
            "2140/2140 [==============================] - 4s 2ms/step - loss: 0.1705\n",
            "Epoch 128/200\n",
            "2140/2140 [==============================] - 4s 2ms/step - loss: 0.1705\n",
            "Epoch 129/200\n",
            "2140/2140 [==============================] - 4s 2ms/step - loss: 0.1710\n",
            "Epoch 130/200\n",
            "2140/2140 [==============================] - 4s 2ms/step - loss: 0.1702\n",
            "Epoch 131/200\n",
            "2140/2140 [==============================] - 4s 2ms/step - loss: 0.1707\n",
            "Epoch 132/200\n",
            "2140/2140 [==============================] - 4s 2ms/step - loss: 0.1702\n",
            "Epoch 133/200\n",
            "2140/2140 [==============================] - 4s 2ms/step - loss: 0.1700\n",
            "Epoch 134/200\n",
            "2140/2140 [==============================] - 4s 2ms/step - loss: 0.1693\n",
            "Epoch 135/200\n",
            "2140/2140 [==============================] - 4s 2ms/step - loss: 0.1693\n",
            "Epoch 136/200\n",
            "2140/2140 [==============================] - 4s 2ms/step - loss: 0.1704\n",
            "Epoch 137/200\n",
            "2140/2140 [==============================] - 4s 2ms/step - loss: 0.1699\n",
            "Epoch 138/200\n",
            "2140/2140 [==============================] - 4s 2ms/step - loss: 0.1705\n",
            "Epoch 139/200\n",
            "2140/2140 [==============================] - 4s 2ms/step - loss: 0.1692\n",
            "Epoch 140/200\n",
            "2140/2140 [==============================] - 4s 2ms/step - loss: 0.1688\n",
            "Epoch 141/200\n",
            "2140/2140 [==============================] - 4s 2ms/step - loss: 0.1684\n",
            "Epoch 142/200\n",
            "2140/2140 [==============================] - 4s 2ms/step - loss: 0.1704\n",
            "Epoch 143/200\n",
            "2140/2140 [==============================] - 4s 2ms/step - loss: 0.1689\n",
            "Epoch 144/200\n",
            "2140/2140 [==============================] - 4s 2ms/step - loss: 0.1686\n",
            "Epoch 145/200\n",
            "2140/2140 [==============================] - 4s 2ms/step - loss: 0.1686\n",
            "Epoch 146/200\n",
            "2140/2140 [==============================] - 4s 2ms/step - loss: 0.1693\n",
            "Epoch 147/200\n",
            "2140/2140 [==============================] - 4s 2ms/step - loss: 0.1688\n",
            "Epoch 148/200\n",
            "2140/2140 [==============================] - 4s 2ms/step - loss: 0.1681\n",
            "Epoch 149/200\n",
            "2140/2140 [==============================] - 4s 2ms/step - loss: 0.1679\n",
            "Epoch 150/200\n",
            "2140/2140 [==============================] - 4s 2ms/step - loss: 0.1673\n",
            "Epoch 151/200\n",
            "2140/2140 [==============================] - 4s 2ms/step - loss: 0.1682\n",
            "Epoch 152/200\n",
            "2140/2140 [==============================] - 4s 2ms/step - loss: 0.1678\n",
            "Epoch 153/200\n",
            "2140/2140 [==============================] - 4s 2ms/step - loss: 0.1676\n",
            "Epoch 154/200\n",
            "2140/2140 [==============================] - 4s 2ms/step - loss: 0.1668\n",
            "Epoch 155/200\n",
            "2140/2140 [==============================] - 4s 2ms/step - loss: 0.1681\n",
            "Epoch 156/200\n",
            "2140/2140 [==============================] - 4s 2ms/step - loss: 0.1664\n",
            "Epoch 157/200\n",
            "2140/2140 [==============================] - 4s 2ms/step - loss: 0.1669\n",
            "Epoch 158/200\n",
            "2140/2140 [==============================] - 4s 2ms/step - loss: 0.1671\n",
            "Epoch 159/200\n",
            "2140/2140 [==============================] - 4s 2ms/step - loss: 0.1663\n",
            "Epoch 160/200\n",
            "2140/2140 [==============================] - 4s 2ms/step - loss: 0.1676\n",
            "Epoch 161/200\n",
            "2140/2140 [==============================] - 4s 2ms/step - loss: 0.1662\n",
            "Epoch 162/200\n",
            "2140/2140 [==============================] - 4s 2ms/step - loss: 0.1663\n",
            "Epoch 163/200\n",
            "2140/2140 [==============================] - 4s 2ms/step - loss: 0.1661\n",
            "Epoch 164/200\n",
            "2140/2140 [==============================] - 4s 2ms/step - loss: 0.1669\n",
            "Epoch 165/200\n",
            "2140/2140 [==============================] - 4s 2ms/step - loss: 0.1671\n",
            "Epoch 166/200\n",
            "2140/2140 [==============================] - 4s 2ms/step - loss: 0.1667\n",
            "Epoch 167/200\n",
            "2140/2140 [==============================] - 4s 2ms/step - loss: 0.1660\n",
            "Epoch 168/200\n",
            "2140/2140 [==============================] - 4s 2ms/step - loss: 0.1664\n",
            "Epoch 169/200\n",
            "2140/2140 [==============================] - 4s 2ms/step - loss: 0.1662\n",
            "Epoch 170/200\n",
            "2140/2140 [==============================] - 5s 2ms/step - loss: 0.1657\n",
            "Epoch 171/200\n",
            "2140/2140 [==============================] - 5s 2ms/step - loss: 0.1655\n",
            "Epoch 172/200\n",
            "2140/2140 [==============================] - 4s 2ms/step - loss: 0.1654\n",
            "Epoch 173/200\n",
            "2140/2140 [==============================] - 5s 2ms/step - loss: 0.1656\n",
            "Epoch 174/200\n",
            "2140/2140 [==============================] - 4s 2ms/step - loss: 0.1652\n",
            "Epoch 175/200\n",
            "2140/2140 [==============================] - 4s 2ms/step - loss: 0.1653\n",
            "Epoch 176/200\n",
            "2140/2140 [==============================] - 4s 2ms/step - loss: 0.1653\n",
            "Epoch 177/200\n",
            "2140/2140 [==============================] - 4s 2ms/step - loss: 0.1647\n",
            "Epoch 178/200\n",
            "2140/2140 [==============================] - 4s 2ms/step - loss: 0.1652\n",
            "Epoch 179/200\n",
            "2140/2140 [==============================] - 4s 2ms/step - loss: 0.1646\n",
            "Epoch 180/200\n",
            "2140/2140 [==============================] - 4s 2ms/step - loss: 0.1650\n",
            "Epoch 181/200\n",
            "2140/2140 [==============================] - 4s 2ms/step - loss: 0.1643\n",
            "Epoch 182/200\n",
            "2140/2140 [==============================] - 4s 2ms/step - loss: 0.1651\n",
            "Epoch 183/200\n",
            "2140/2140 [==============================] - 4s 2ms/step - loss: 0.1654\n",
            "Epoch 184/200\n",
            "2140/2140 [==============================] - 4s 2ms/step - loss: 0.1643\n",
            "Epoch 185/200\n",
            "2140/2140 [==============================] - 4s 2ms/step - loss: 0.1648\n",
            "Epoch 186/200\n",
            "2140/2140 [==============================] - 4s 2ms/step - loss: 0.1642\n",
            "Epoch 187/200\n",
            "2140/2140 [==============================] - 4s 2ms/step - loss: 0.1640\n",
            "Epoch 188/200\n",
            "2140/2140 [==============================] - 4s 2ms/step - loss: 0.1645\n",
            "Epoch 189/200\n",
            "2140/2140 [==============================] - 4s 2ms/step - loss: 0.1639\n",
            "Epoch 190/200\n",
            "2140/2140 [==============================] - 4s 2ms/step - loss: 0.1643\n",
            "Epoch 191/200\n",
            "2140/2140 [==============================] - 4s 2ms/step - loss: 0.1636\n",
            "Epoch 192/200\n",
            "2140/2140 [==============================] - 4s 2ms/step - loss: 0.1641\n",
            "Epoch 193/200\n",
            "2140/2140 [==============================] - 4s 2ms/step - loss: 0.1640\n",
            "Epoch 194/200\n",
            "2140/2140 [==============================] - 4s 2ms/step - loss: 0.1635\n",
            "Epoch 195/200\n",
            "2140/2140 [==============================] - 4s 2ms/step - loss: 0.1636\n",
            "Epoch 196/200\n",
            "2140/2140 [==============================] - 4s 2ms/step - loss: 0.1641\n",
            "Epoch 197/200\n",
            "2140/2140 [==============================] - 4s 2ms/step - loss: 0.1631\n",
            "Epoch 198/200\n",
            "2140/2140 [==============================] - 4s 2ms/step - loss: 0.1633\n",
            "Epoch 199/200\n",
            "2140/2140 [==============================] - 4s 2ms/step - loss: 0.1636\n",
            "Epoch 200/200\n",
            "2140/2140 [==============================] - 4s 2ms/step - loss: 0.1634\n"
          ],
          "name": "stdout"
        }
      ]
    },
    {
      "cell_type": "code",
      "metadata": {
        "colab": {
          "base_uri": "https://localhost:8080/",
          "height": 281
        },
        "id": "nSnED0uqeeDg",
        "outputId": "e7ec5e18-db7b-4129-b5ad-ac0e7de36226"
      },
      "source": [
        "plt.plot(trained_model4.history[\"loss\"])"
      ],
      "execution_count": 76,
      "outputs": [
        {
          "output_type": "execute_result",
          "data": {
            "text/plain": [
              "[<matplotlib.lines.Line2D at 0x7fa6a45657d0>]"
            ]
          },
          "metadata": {
            "tags": []
          },
          "execution_count": 76
        },
        {
          "output_type": "display_data",
          "data": {
            "image/png": "[encoded data removed]",
            "text/plain": [
              "<Figure size 432x288 with 1 Axes>"
            ]
          },
          "metadata": {
            "tags": [],
            "needs_background": "light"
          }
        }
      ]
    },
    {
      "cell_type": "code",
      "metadata": {
        "colab": {
          "base_uri": "https://localhost:8080/"
        },
        "id": "xcxngA2i_mA1",
        "outputId": "6dafa20a-0299-4ea3-c5e0-a69d1fa72a0f"
      },
      "source": [
        "Y_pred4 = model4.predict(X_test)\n",
        "acc4 = (r2_score(Y_test,Y_pred4))\n",
        "print(acc4)"
      ],
      "execution_count": 77,
      "outputs": [
        {
          "output_type": "stream",
          "text": [
            "0.5536719766142659\n"
          ],
          "name": "stdout"
        }
      ]
    },
    {
      "cell_type": "markdown",
      "metadata": {
        "id": "4O0QQFlbJHP7"
      },
      "source": [
        "# Ensemble Model"
      ]
    },
    {
      "cell_type": "code",
      "metadata": {
        "id": "gvNjTpK_7tK-"
      },
      "source": [
        "Y_pred_ensemble = (Y_pred+Y_pred2+Y_pred3+Y_pred4)/4"
      ],
      "execution_count": 117,
      "outputs": []
    },
    {
      "cell_type": "code",
      "metadata": {
        "colab": {
          "base_uri": "https://localhost:8080/"
        },
        "id": "0C8WL4un8-Lz",
        "outputId": "db10647f-76f0-46bd-c866-9a695b2d4edc"
      },
      "source": [
        "acc_ensemble = (r2_score(Y_test,Y_pred_ensemble))\n",
        "print(acc_ensemble)"
      ],
      "execution_count": 118,
      "outputs": [
        {
          "output_type": "stream",
          "text": [
            "0.5822772429897835\n"
          ],
          "name": "stdout"
        }
      ]
    },
    {
      "cell_type": "code",
      "metadata": {
        "id": "Xfb0Zg9nPW1C"
      },
      "source": [
        "performance = pd.DataFrame([acc1,acc2,acc3,acc4,acc_ensemble],index=['Model 1','Model 2','Model 3','Model 4','Ensemble Model'],columns=['Accuracy'])"
      ],
      "execution_count": 123,
      "outputs": []
    },
    {
      "cell_type": "code",
      "metadata": {
        "colab": {
          "base_uri": "https://localhost:8080/",
          "height": 202
        },
        "id": "SKMrcVOPtHV6",
        "outputId": "ba256971-1bfa-4535-8916-1031670ad467"
      },
      "source": [
        "performance"
      ],
      "execution_count": 124,
      "outputs": [
        {
          "output_type": "execute_result",
          "data": {
            "text/html": [
              "<div>\n",
              "<style scoped>\n",
              "    .dataframe tbody tr th:only-of-type {\n",
              "        vertical-align: middle;\n",
              "    }\n",
              "\n",
              "    .dataframe tbody tr th {\n",
              "        vertical-align: top;\n",
              "    }\n",
              "\n",
              "    .dataframe thead th {\n",
              "        text-align: right;\n",
              "    }\n",
              "</style>\n",
              "<table border=\"1\" class=\"dataframe\">\n",
              "  <thead>\n",
              "    <tr style=\"text-align: right;\">\n",
              "      <th></th>\n",
              "      <th>Accuracy</th>\n",
              "    </tr>\n",
              "  </thead>\n",
              "  <tbody>\n",
              "    <tr>\n",
              "      <th>Model 1</th>\n",
              "      <td>0.531173</td>\n",
              "    </tr>\n",
              "    <tr>\n",
              "      <th>Model 2</th>\n",
              "      <td>0.554724</td>\n",
              "    </tr>\n",
              "    <tr>\n",
              "      <th>Model 3</th>\n",
              "      <td>0.561681</td>\n",
              "    </tr>\n",
              "    <tr>\n",
              "      <th>Model 4</th>\n",
              "      <td>0.553672</td>\n",
              "    </tr>\n",
              "    <tr>\n",
              "      <th>Ensemble Model</th>\n",
              "      <td>0.582277</td>\n",
              "    </tr>\n",
              "  </tbody>\n",
              "</table>\n",
              "</div>"
            ],
            "text/plain": [
              "                Accuracy\n",
              "Model 1         0.531173\n",
              "Model 2         0.554724\n",
              "Model 3         0.561681\n",
              "Model 4         0.553672\n",
              "Ensemble Model  0.582277"
            ]
          },
          "metadata": {
            "tags": []
          },
          "execution_count": 124
        }
      ]
    },
    {
      "cell_type": "code",
      "metadata": {
        "colab": {
          "base_uri": "https://localhost:8080/",
          "height": 281
        },
        "id": "bIaC2TfMPnvI",
        "outputId": "d65fd456-8c19-4e0b-d49e-0f46a4de35af"
      },
      "source": [
        "sns.barplot(x=performance.Accuracy.values,y=performance.Accuracy.index)"
      ],
      "execution_count": 125,
      "outputs": [
        {
          "output_type": "execute_result",
          "data": {
            "text/plain": [
              "<matplotlib.axes._subplots.AxesSubplot at 0x7fa69fd8c690>"
            ]
          },
          "metadata": {
            "tags": []
          },
          "execution_count": 125
        },
        {
          "output_type": "display_data",
          "data": {
            "image/png": "[encoded data removed]",
            "text/plain": [
              "<Figure size 432x288 with 1 Axes>"
            ]
          },
          "metadata": {
            "tags": [],
            "needs_background": "light"
          }
        }
      ]
    },
    {
      "cell_type": "code",
      "metadata": {
        "id": "0i0A7pX4dmU7"
      },
      "source": [
        ""
      ],
      "execution_count": null,
      "outputs": []
    }
  ]
}